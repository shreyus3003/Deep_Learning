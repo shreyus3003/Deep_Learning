{
  "nbformat": 4,
  "nbformat_minor": 0,
  "metadata": {
    "colab": {
      "name": "mnist_class.ipynb",
      "provenance": [],
      "collapsed_sections": []
    },
    "kernelspec": {
      "name": "python3",
      "display_name": "Python 3"
    },
    "accelerator": "GPU"
  },
  "cells": [
    {
      "cell_type": "markdown",
      "metadata": {
        "id": "Ents2bFyMfBH",
        "colab_type": "text"
      },
      "source": [
        "#            Mnist using numpy\n",
        "\n"
      ]
    },
    {
      "cell_type": "code",
      "metadata": {
        "id": "IOLpoOz8xTS2",
        "colab_type": "code",
        "colab": {}
      },
      "source": [
        "import sys\n",
        "from keras.datasets import mnist\n",
        "import numpy as np\n",
        "import matplotlib.pyplot as plt\n",
        "import math\n",
        "from keras.preprocessing.image import ImageDataGenerator\n",
        "from IPython.display import clear_output\n",
        "import matplotlib.pyplot as plt\n",
        "import numpy as np\n",
        "from sklearn.metrics import confusion_matrix\n",
        "import itertools\n",
        "np.random.seed(1)\n"
      ],
      "execution_count": 0,
      "outputs": []
    },
    {
      "cell_type": "markdown",
      "metadata": {
        "id": "hb_89JcoMotS",
        "colab_type": "text"
      },
      "source": [
        "###1.1 Data Loading: (method : data_prep())\n",
        "  The mnist dataset is loaded from the keras datasets, the train and test data are seperated. One hot encoding is done fo the train and test labels in the same function."
      ]
    },
    {
      "cell_type": "code",
      "metadata": {
        "id": "DrOjrSJSxdBD",
        "colab_type": "code",
        "colab": {}
      },
      "source": [
        "def data_prep(x_train, y_train, x_test, y_test):\n",
        "  #images, labels = (x_train[0:1000].reshape(1000, 28*28)/ 255, y_train[0:1000])\n",
        "  images, labels = (x_train.reshape(len(x_train), 28*28)/ 255, y_train)\n",
        "  one_hot_labels = np.zeros((len(labels), 10))\n",
        "  for i, l in enumerate(labels):\n",
        "    one_hot_labels[i][l] = 1\n",
        "  labels = one_hot_labels\n",
        "  test_images = x_test.reshape(len(x_test), 28*28)/255\n",
        "  test_labels = np.zeros((len(y_test), 10))\n",
        "  for i, l in enumerate(y_test):\n",
        "    test_labels[i][l] = 1\n",
        "  return (images, labels, test_images, test_labels)"
      ],
      "execution_count": 0,
      "outputs": []
    },
    {
      "cell_type": "markdown",
      "metadata": {
        "id": "CCAuOWMyMqyt",
        "colab_type": "text"
      },
      "source": [
        "###1.2 Activation functions:\n",
        "  Activation functions RELU, RELU2Deriv and softmax activations functions are defined."
      ]
    },
    {
      "cell_type": "code",
      "metadata": {
        "id": "pQRNGBqry7gv",
        "colab_type": "code",
        "colab": {}
      },
      "source": [
        "relu = lambda x: (x>=0) * x\n",
        "relu2derive = lambda x: x>=0\n",
        "def softmax(x):\n",
        "  temp = np.exp(x)\n",
        "  return temp/np.sum(temp, axis=1, keepdims=True)"
      ],
      "execution_count": 0,
      "outputs": []
    },
    {
      "cell_type": "markdown",
      "metadata": {
        "id": "XSJ3tAe7OMn6",
        "colab_type": "text"
      },
      "source": [
        "###1.3 Preview of images:"
      ]
    },
    {
      "cell_type": "code",
      "metadata": {
        "id": "hp2qtiWEQIN6",
        "colab_type": "code",
        "colab": {
          "base_uri": "https://localhost:8080/",
          "height": 276
        },
        "outputId": "a233f904-c5a4-491e-9300-5064c25a5bde"
      },
      "source": [
        "plt.figure(figsize=(15,4.5))\n",
        "for i in range(30):  \n",
        "    plt.subplot(3, 10, i+1)\n",
        "    plt.imshow(images[i].reshape((28,28)),cmap=plt.cm.binary)\n",
        "    plt.axis('off')\n",
        "plt.subplots_adjust(wspace=-0.1, hspace=-0.1)\n",
        "plt.show()"
      ],
      "execution_count": 80,
      "outputs": [
        {
          "output_type": "display_data",
          "data": {
            "image/png": "[encoded data removed]",
            "text/plain": [
              "<Figure size 1080x324 with 30 Axes>"
            ]
          },
          "metadata": {
            "tags": []
          }
        }
      ]
    },
    {
      "cell_type": "markdown",
      "metadata": {
        "id": "Xoxr7hmmMz1w",
        "colab_type": "text"
      },
      "source": [
        "#2. Class Simple Neural Network(SNN):\n",
        "  The class takes the basic parameters like images, alpha value, number of epochs, labels, and boolean dropout\n",
        "###2.1 Weights Initialization:\n",
        "  Intial weights for each layer is defined, random values are choosen to initialize the weights.\n",
        "###2.2 Activation Function:\n",
        "  Relu and softmax activation functions are called for each layer respectively and dropout is also applied in this function\n",
        "\n",
        "###2.3 Forward propogation function:\n",
        "  activation for each layer is calculated.\n",
        "###2.4 Backpropogation function:\n",
        "  The gradient is calculated for each layer. \n",
        "###2.5 Weight updation:\n",
        "  The new weights for each layer is calculated with respect to the gradient calculated earlier. Different alpha value is used in each epoc for weights calculations.\n",
        "###2.6 Image augmentation:\n",
        "  The image augmentation is done by rotating, zooming, shifting the width and shifting the height.\n",
        "###2.7 Train Images:\n",
        "  10 iterations are implemented to train the model with a total images of 60k images with a batch size of 130 in each batch. The resulting weights used for the validation of test images.\n",
        "###2.8 Confusion Matrix Plot:\n",
        "  Confusion matrix is plotted using the predicted values from the model.\n",
        "###2.8 Predict model:\n",
        "  The resulting weights are applied on the layers resulting in a test accuracy"
      ]
    },
    {
      "cell_type": "code",
      "metadata": {
        "id": "cE5AHTjhxxtE",
        "colab_type": "code",
        "colab": {}
      },
      "source": [
        "#Class Simple Neural Network(SNN):\n",
        "class SNNetwork:\n",
        "  def __init__(self, images, batch_size, alpha, iterations, layers, labels,drop_out):\n",
        "    self.images = images\n",
        "    self.batch_size = batch_size\n",
        "    self.alpha = alpha\n",
        "    self.iterations = iterations\n",
        "    self.layers = layers\n",
        "    self.labels = labels\n",
        "    self.drop_out = drop_out\n",
        "\n",
        "#Weights Initialization:    \n",
        "  def ini_weights(self):\n",
        "    weights = [None] * (len(self.layers)-1)\n",
        "    a = [0.204, 0.215, 0.22, 0.328]\n",
        "    #a = [0.228, 0.210, 0.205, 0.328]\n",
        "    for i in range(len(self.layers)-1):\n",
        "      weights[i] = a[i] * np.random.random((self.layers[i], self.layers[i+1])) -0.1\n",
        "    return weights\n",
        "\n",
        "#Activation Function:\n",
        "  def activation(self,l, w,d):\n",
        "    layer = np.dot(l,w)\n",
        "    relu(layer)\n",
        "    if(self.drop_out == True and d==0):\n",
        "      dropout_mask = np.random.randint(2, size = layer.shape)\n",
        "      layer *= dropout_mask * 2\n",
        "    return layer\n",
        "    \n",
        "#Forward propogation function: \n",
        "  def forward_prop(self, layer_in, weights):\n",
        "    ec_layer = []\n",
        "    next_layer = [None] * (len(self.layers)-2)\n",
        "    \n",
        "    ec_layer.append(layer_in)\n",
        "    for i in range(len(self.layers)-2):\n",
        "      d = i\n",
        "      next_layer[i] = self.activation(ec_layer[i], weights[i], d)\n",
        "      ec_layer.append(next_layer[i])\n",
        "    layer_out = softmax(np.dot(ec_layer[-1], weights[-1]))\n",
        "    ec_layer.append(layer_out)\n",
        "    return ec_layer\n",
        "\n",
        "#Backpropogation function:\n",
        "  def back_prop(self, each_layer, batch_start, batch_end, weights):\n",
        "    grad = []\n",
        "    delta = [None] * (len(self.layers)-2)\n",
        "    op_delta = (self.labels[batch_start:batch_end] - each_layer[-1])/self.batch_size\n",
        "    temp = op_delta\n",
        "    for i in range(1,len(each_layer)-1):\n",
        "      delta[-i] = op_delta.dot(weights[-i].T) * relu2derive(each_layer[-i-1])\n",
        "      op_delta = delta[-i]\n",
        "    \n",
        "    for j in range(len(delta)):\n",
        "      grad.append(delta[j])\n",
        "    grad.append(temp)\n",
        "    return grad\n",
        "  \n",
        "#Weight updation:\n",
        "  def weights_up(self, gradients, each_layer,weights, alpha):\n",
        "    for i in range(len(weights)):\n",
        "      weights[i] = weights[i] + self.alpha*np.dot(each_layer[i].T, gradients[i])\n",
        "    return weights\n",
        "\n",
        "#Image augmentation:\n",
        "  def imageAug(self, images):\n",
        "  \n",
        "    images = images.reshape(-1,28,28,1)\n",
        "    datagen = ImageDataGenerator(\n",
        "              rotation_range=10,  \n",
        "              zoom_range = 0.50,  \n",
        "              width_shift_range=0.1, \n",
        "              height_shift_range=0.1)\n",
        "\n",
        "\n",
        "    datagen.fit(images)\n",
        "    batches = datagen.flow(images, batch_size = len(images))\n",
        "    x_batch = next(batches)\n",
        "    x_batch = x_batch.reshape(len(images), 28*28)\n",
        "    return x_batch\n",
        "  \n",
        "#Confusion Matrix plot:\n",
        "  def plot_confusion_matrix(self, cm, classes,\n",
        "                          normalize=False,\n",
        "                          title='Confusion matrix',\n",
        "                          cmap=plt.cm.Blues):\n",
        "    \n",
        "    plt.imshow(cm, interpolation='nearest', cmap=cmap)\n",
        "    plt.title(title)\n",
        "    plt.colorbar()\n",
        "    tick_marks = np.arange(len(classes))\n",
        "    plt.xticks(tick_marks, classes, rotation=45)\n",
        "    plt.yticks(tick_marks, classes)\n",
        "\n",
        "    if normalize:\n",
        "        cm = cm.astype('float') / cm.sum(axis=1)[:, np.newaxis]\n",
        "\n",
        "    thresh = cm.max() / 2.\n",
        "    for i, j in itertools.product(range(cm.shape[0]), range(cm.shape[1])):\n",
        "        plt.text(j, i, cm[i, j],\n",
        "                 horizontalalignment=\"center\",\n",
        "                 color=\"white\" if cm[i, j] > thresh else \"black\")\n",
        "\n",
        "    plt.tight_layout()\n",
        "    plt.ylabel('True label')\n",
        "    plt.xlabel('Predicted label')\n",
        "\n",
        " #Train Images:     \n",
        "  def train_net(self,weights):\n",
        "    alpha = self.alpha\n",
        "    train_loss, train_acc = (0.0, 0)\n",
        "    aug_images = self.images\n",
        "    for i in range(int(len(aug_images)/self.batch_size)):\n",
        "      batch_start, batch_end = (i*self.batch_size, (i+1)*self.batch_size)\n",
        "      layer_in = aug_images[batch_start:batch_end]\n",
        "      each_layer = self.forward_prop(layer_in, weights)\n",
        "      train_loss += np.sum((each_layer[-1] - self.labels[batch_start:batch_end]) **2)\n",
        "      for k in range(self.batch_size):\n",
        "        train_acc += int(np.argmax(each_layer[-1][k:k+1]) == np.argmax(self.labels[batch_start+k:batch_start+k+1]))\n",
        "\n",
        "        gradients = self.back_prop(each_layer, batch_start, batch_end, weights)\n",
        "        weights = self.weights_up(gradients,each_layer, weights, alpha)\n",
        "    \n",
        "    #alpha = alpha + 0.000005\n",
        "    \n",
        "    # if(acc>temp):\n",
        "    #   temp = acc\n",
        "    #   g_weights = weights\n",
        "    return (train_loss, train_acc, weights)\n",
        "\n",
        "#Predict model:\n",
        "  def nn_fit(self,test_images, test_labels):\n",
        "    weights = self.ini_weights()\n",
        "    tr_loss = []\n",
        "    tes_loss = []\n",
        "    for j in range(self.iterations):\n",
        "      y_pred = []\n",
        "      test_error, test_cnt = (0.0, 0)\n",
        "      train_loss,train_acc,weights = self.train_net(weights)\n",
        "\n",
        "      for i in range(len(test_images)):\n",
        "        layer_in = test_images[i:i+1]\n",
        "        each_layer = self.forward_prop(layer_in, weights)\n",
        "        y = each_layer[-1]\n",
        "        y_pred.append(y)\n",
        "\n",
        "        test_error += np.sum((test_labels[i:i+1] - each_layer[-1]) **2)\n",
        "        test_cnt += int(np.argmax(each_layer[-1]) == np.argmax(test_labels[i:i+1]))\n",
        "\n",
        "      tr_loss.append(train_loss/float(len(self.images)))\n",
        "      tes_loss.append(test_error/float(len(test_images)))  \n",
        "      print(\"Epoch\",str(j),\" train_loss:\" + str(train_loss/float(len(self.images)))[0:5], \\\n",
        "            \"Train accuracy:\",format((train_acc*100/float(len(self.images))),'.4f'),\\\n",
        "            \"Validation_loss:\" + str(test_error/float(len(test_images)))[0:5], \\\n",
        "            \"Val accuracy:\",format((test_cnt*100/float(len(test_images))), '.4f'))\n",
        "    \n",
        "    y_pred = np.array(y_pred)\n",
        "    y_pred = y_pred.reshape(10000,10)\n",
        "    return y_pred, tr_loss, tes_loss\n",
        "\n",
        "  def plot_validation(self, tr_loss, tes_loss):\n",
        "    epoch_count = range(1, len(tr_loss) + 1)\n",
        "\n",
        "    # Visualize loss history\n",
        "    plt.plot(epoch_count, tr_loss, 'r--')\n",
        "    plt.plot(epoch_count, tes_loss, 'b-')\n",
        "    plt.legend(['Training Loss', 'Test Loss'])\n",
        "    plt.xlabel('Epoch')\n",
        "    plt.ylabel('Loss')\n",
        "    plt.show()\n",
        "    \n",
        "      \n"
      ],
      "execution_count": 0,
      "outputs": []
    },
    {
      "cell_type": "markdown",
      "metadata": {
        "id": "i7uOch35NZGj",
        "colab_type": "text"
      },
      "source": [
        "##3. Main \n",
        "#3.1 Initialize Model:\n",
        "  The model is initialized with 3 hidden layers and defining the neurons in each layer."
      ]
    },
    {
      "cell_type": "code",
      "metadata": {
        "id": "zrsmHveOSrs0",
        "colab_type": "code",
        "outputId": "25c6113c-4c21-4842-f3ca-9272636b609e",
        "colab": {
          "base_uri": "https://localhost:8080/",
          "height": 481
        }
      },
      "source": [
        "image_pixel, num_labels = (784,10)\n",
        "hidden_layers = [256,192]\n",
        "layer_size = [image_pixel]\n",
        "for i in range(len(hidden_layers)):\n",
        "  layer_size.append(hidden_layers[i])\n",
        "layer_size.append(num_labels)\n",
        "\n",
        "(x_train, y_train) , (x_test, y_test) = mnist.load_data()\n",
        "images, labels, test_images, test_labels = data_prep(x_train, y_train, x_test, y_test)\n",
        "np.random.seed(1)\n",
        "\n",
        "#Initialize Model:\n",
        "model = SNNetwork(images=images, batch_size=100, alpha = 0.000204, iterations=10, layers=layer_size, labels=labels, drop_out=True )\n",
        "y_pred, tr_loss, tes_loss = model.nn_fit(test_images, test_labels)\n",
        "\n",
        "Y_pred_classes = np.argmax(y_pred,axis =1) \n",
        "Y_true = np.argmax(test_labels,axis = 1)\n",
        "confusion_mtx = confusion_matrix(Y_true, Y_pred_classes) \n",
        "# plot the confusion matrix\n",
        "model.plot_confusion_matrix(confusion_mtx, classes = range(10))\n",
        "model.plot_validation(tr_loss, tes_loss)"
      ],
      "execution_count": 82,
      "outputs": [
        {
          "output_type": "stream",
          "text": [
            "Epoch 0  train_loss:0.370 Train accuracy: 0.7382 Validation_loss:0.246 Val accuracy: 0.8288\n",
            "Epoch 1  train_loss:0.231 Train accuracy: 0.8429 Validation_loss:0.218 Val accuracy: 0.8501\n",
            "Epoch 2  train_loss:0.210 Train accuracy: 0.8582 Validation_loss:0.199 Val accuracy: 0.8638\n",
            "Epoch 3  train_loss:0.199 Train accuracy: 0.8662 Validation_loss:0.191 Val accuracy: 0.8716\n",
            "Epoch 4  train_loss:0.194 Train accuracy: 0.8696 Validation_loss:0.185 Val accuracy: 0.8772\n",
            "Epoch 5  train_loss:0.188 Train accuracy: 0.8744 Validation_loss:0.183 Val accuracy: 0.8760\n",
            "Epoch 6  train_loss:0.186 Train accuracy: 0.8760 Validation_loss:0.180 Val accuracy: 0.8795\n",
            "Epoch 7  train_loss:0.185 Train accuracy: 0.8758 Validation_loss:0.181 Val accuracy: 0.8765\n",
            "Epoch 8  train_loss:0.183 Train accuracy: 0.8779 Validation_loss:0.181 Val accuracy: 0.8775\n",
            "Epoch 9  train_loss:0.182 Train accuracy: 0.8792 Validation_loss:0.189 Val accuracy: 0.8721\n"
          ],
          "name": "stdout"
        },
        {
          "output_type": "display_data",
          "data": {
            "image/png": "[encoded data removed]",
            "text/plain": [
              "<Figure size 432x288 with 2 Axes>"
            ]
          },
          "metadata": {
            "tags": []
          }
        }
      ]
    }
  ]
}