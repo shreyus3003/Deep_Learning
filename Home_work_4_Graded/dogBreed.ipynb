{
  "nbformat": 4,
  "nbformat_minor": 0,
  "metadata": {
    "colab": {
      "name": "dogBreed.ipynb",
      "provenance": [],
      "collapsed_sections": [],
      "include_colab_link": true
    },
    "kernelspec": {
      "name": "python3",
      "display_name": "Python 3"
    },
    "accelerator": "GPU"
  },
  "cells": [
    {
      "cell_type": "markdown",
      "metadata": {
        "id": "view-in-github",
        "colab_type": "text"
      },
      "source": [
        "<a href=\"https://colab.research.google.com/github/shreyus3003/Deep_Learning/blob/master/Home_work_4_Graded/dogBreed.ipynb\" target=\"_parent\"><img src=\"https://colab.research.google.com/assets/colab-badge.svg\" alt=\"Open In Colab\"/></a>"
      ]
    },
    {
      "cell_type": "code",
      "metadata": {
        "id": "5iaN88N5o0JP",
        "colab_type": "code",
        "colab": {}
      },
      "source": [
        "%matplotlib inline\n",
        "import matplotlib.pyplot as plt\n",
        "\n",
        "import tensorflow as tf\n",
        "import numpy as np\n",
        "import pandas as pd\n",
        "\n",
        "import time\n",
        "from datetime import timedelta\n",
        "\n",
        "import math\n",
        "import os\n",
        "\n",
        "import scipy.misc\n",
        "from scipy.stats import itemfreq\n",
        "from random import sample\n",
        "import pickle\n",
        "\n",
        "from sklearn.metrics import confusion_matrix\n",
        "from sklearn.model_selection import train_test_split\n",
        "\n",
        "\n",
        "import PIL.Image\n",
        "from IPython.display import display\n",
        "\n",
        "\n",
        "from zipfile import ZipFile\n",
        "from io import BytesIO"
      ],
      "execution_count": 0,
      "outputs": []
    },
    {
      "cell_type": "code",
      "metadata": {
        "id": "z801ROotSZgi",
        "colab_type": "code",
        "outputId": "e1a3150a-a0b1-45a6-cf6d-aee87b480b7f",
        "colab": {
          "base_uri": "https://localhost:8080/",
          "height": 122
        }
      },
      "source": [
        "from google.colab import drive\n",
        "drive.mount('/content/drive')\n",
        "\n",
        "\n"
      ],
      "execution_count": 0,
      "outputs": [
        {
          "output_type": "stream",
          "text": [
            "Go to this URL in a browser: https://accounts.google.com/o/oauth2/auth?client_id=947318989803-6bn6qk8qdgf4n4g3pfee6491hc0brc4i.apps.googleusercontent.com&redirect_uri=urn%3aietf%3awg%3aoauth%3a2.0%3aoob&response_type=code&scope=email%20https%3a%2f%2fwww.googleapis.com%2fauth%2fdocs.test%20https%3a%2f%2fwww.googleapis.com%2fauth%2fdrive%20https%3a%2f%2fwww.googleapis.com%2fauth%2fdrive.photos.readonly%20https%3a%2f%2fwww.googleapis.com%2fauth%2fpeopleapi.readonly\n",
            "\n",
            "Enter your authorization code:\n",
            "··········\n",
            "Mounted at /content/drive\n"
          ],
          "name": "stdout"
        }
      ]
    },
    {
      "cell_type": "code",
      "metadata": {
        "id": "vVFhqSNzRJci",
        "colab_type": "code",
        "outputId": "19e8d1f9-c3b0-4449-926e-c564a74519a8",
        "colab": {
          "base_uri": "https://localhost:8080/",
          "height": 34
        }
      },
      "source": [
        "\n",
        "train = ZipFile(\"/content/drive/My Drive/CMPE 258 - Deep Learning/Assignments/Assignment 4/dog-breed-id/train.zip\", 'r')\n",
        "test = ZipFile(\"/content/drive/My Drive/CMPE 258 - Deep Learning/Assignments/Assignment 4/dog-breed-id/test.zip\", 'r')\n",
        "\n",
        "train.namelist()[0:5]\n",
        "\n",
        "len(train.namelist()[:]) - 1"
      ],
      "execution_count": 0,
      "outputs": [
        {
          "output_type": "execute_result",
          "data": {
            "text/plain": [
              "10222"
            ]
          },
          "metadata": {
            "tags": []
          },
          "execution_count": 4
        }
      ]
    },
    {
      "cell_type": "code",
      "metadata": {
        "id": "bunuBLwDTxpd",
        "colab_type": "code",
        "colab": {}
      },
      "source": [
        "\n",
        "def db_creator(archivezip, nwidth, nheight, save_name):\n",
        " \n",
        "    \n",
        "  \n",
        "    start = time.time()\n",
        "    \n",
        "    s = (len(archivezip.namelist()[:])-1, nwidth, nheight,3)\n",
        "    allImg = np.zeros(s)\n",
        "    for i in range(1,len(archivezip.namelist()[:])):\n",
        "        fname = BytesIO(archivezip.read(archivezip.namelist()[i]))\n",
        "        image = PIL.Image.open(fname) # open colour image\n",
        "        image = image.resize((nwidth, nheight))\n",
        "        image = np.array(image)\n",
        "        image = np.clip(image/255.0, 0.0, 1.0) \n",
        "        allImg[i-1]=image\n",
        "    \n",
        "\n",
        "    pickle.dump(allImg, open( save_name + '.p', \"wb\" ) )\n",
        "    \n",
        "\n",
        "    end = time.time()\n",
        "\n",
        "    time_dif = end - start\n",
        "\n",
        "    print(\"Time usage: \" + str(timedelta(seconds=int(round(time_dif)))))"
      ],
      "execution_count": 0,
      "outputs": []
    },
    {
      "cell_type": "code",
      "metadata": {
        "id": "sDVYDJNGUkO8",
        "colab_type": "code",
        "outputId": "9062b02d-cedc-4afc-aea3-8f94734304e1",
        "colab": {
          "base_uri": "https://localhost:8080/",
          "height": 51
        }
      },
      "source": [
        "\n",
        "image_resize = 60\n",
        "db_creator(archivezip = train, nwidth = image_resize, \n",
        "                 nheight = image_resize , save_name = \"/content/drive/My Drive/CMPE 258 - Deep Learning/Assignments/Assignment 4/pickle/train\")\n",
        "db_creator(archivezip = test, nwidth = image_resize, \n",
        "                 nheight = image_resize , save_name = \"/content/drive/My Drive/CMPE 258 - Deep Learning/Assignments/Assignment 4/pickle/test\")"
      ],
      "execution_count": 0,
      "outputs": [
        {
          "output_type": "stream",
          "text": [
            "Time usage: 0:01:01\n",
            "Time usage: 0:01:34\n"
          ],
          "name": "stdout"
        }
      ]
    },
    {
      "cell_type": "code",
      "metadata": {
        "id": "A_C73GxMU3GB",
        "colab_type": "code",
        "outputId": "a619977e-94fc-418c-a727-504ee2647ba7",
        "colab": {
          "base_uri": "https://localhost:8080/",
          "height": 34
        }
      },
      "source": [
        "\n",
        "train = pickle.load( open( \"/content/drive/My Drive/CMPE 258 - Deep Learning/Assignments/Assignment 4/pickle/train.p\", \"rb\" ) )\n",
        "train.shape"
      ],
      "execution_count": 0,
      "outputs": [
        {
          "output_type": "execute_result",
          "data": {
            "text/plain": [
              "(10222, 60, 60, 3)"
            ]
          },
          "metadata": {
            "tags": []
          },
          "execution_count": 7
        }
      ]
    },
    {
      "cell_type": "code",
      "metadata": {
        "id": "AtaLuj-QZMfW",
        "colab_type": "code",
        "outputId": "7e9d9160-adac-4af1-9b60-e3754d49b400",
        "colab": {
          "base_uri": "https://localhost:8080/",
          "height": 34
        }
      },
      "source": [
        "\n",
        "test = pickle.load( open( \"/content/drive/My Drive/CMPE 258 - Deep Learning/Assignments/Assignment 4/pickle/test.p\", \"rb\" ) )\n",
        "test.shape"
      ],
      "execution_count": 0,
      "outputs": [
        {
          "output_type": "execute_result",
          "data": {
            "text/plain": [
              "(10357, 60, 60, 3)"
            ]
          },
          "metadata": {
            "tags": []
          },
          "execution_count": 8
        }
      ]
    },
    {
      "cell_type": "code",
      "metadata": {
        "id": "CVcKcJUzbsYn",
        "colab_type": "code",
        "colab": {}
      },
      "source": [
        "plt.imshow(test[500,:,:,:])"
      ],
      "execution_count": 0,
      "outputs": []
    },
    {
      "cell_type": "code",
      "metadata": {
        "id": "dOY7xwSVdQ-T",
        "colab_type": "code",
        "colab": {}
      },
      "source": [
        "\n",
        "path = \"/content/drive/My Drive/CMPE 258 - Deep Learning/Assignments/Assignment 4/dog-breed-id/labels.csv\"\n",
        "labels = pd.read_csv(path)"
      ],
      "execution_count": 0,
      "outputs": []
    },
    {
      "cell_type": "code",
      "metadata": {
        "id": "nOud455KZUf9",
        "colab_type": "code",
        "colab": {}
      },
      "source": [
        "\n",
        "image_resize = 60\n",
        "nwidth = image_resize\n",
        "nheight = image_resize\n",
        "\n",
        "\n",
        "s = (len(labels['breed']), nwidth, nheight,3) \n",
        "allImage = np.zeros(s)\n",
        "\n",
        "i = 0\n",
        "for f, breed in labels.values:\n",
        "    image = PIL.Image.open('../content/train/{}.jpg'.format(f))\n",
        "    image = image.resize((nwidth, nheight))\n",
        "    image = np.array(image)\n",
        "    image = np.clip(image/255.0, 0.0, 1.0) \n",
        "    i += 1\n",
        "    allImage[i-1]=image\n",
        "\n",
        "    train = allImage"
      ],
      "execution_count": 0,
      "outputs": []
    },
    {
      "cell_type": "code",
      "metadata": {
        "id": "GIL_qQyNbzyy",
        "colab_type": "code",
        "outputId": "1e920604-ebe6-4489-a593-6a7d06ea5e33",
        "colab": {
          "base_uri": "https://localhost:8080/",
          "height": 268
        }
      },
      "source": [
        "plt.imshow(train[200,:,:,:])\n",
        "plt.show()"
      ],
      "execution_count": 0,
      "outputs": [
        {
          "output_type": "display_data",
          "data": {
            "image/png": "[encoded data removed]",
            "text/plain": [
              "<Figure size 432x288 with 1 Axes>"
            ]
          },
          "metadata": {
            "tags": [],
            "needs_background": "light"
          }
        }
      ]
    },
    {
      "cell_type": "code",
      "metadata": {
        "id": "OSw5xRO9oUXH",
        "colab_type": "code",
        "outputId": "ec39ddc3-a895-405d-fb7e-0cc53d912493",
        "colab": {
          "base_uri": "https://localhost:8080/",
          "height": 204
        }
      },
      "source": [
        "labels.sample(5)"
      ],
      "execution_count": 0,
      "outputs": [
        {
          "output_type": "execute_result",
          "data": {
            "text/html": [
              "<div>\n",
              "<style scoped>\n",
              "    .dataframe tbody tr th:only-of-type {\n",
              "        vertical-align: middle;\n",
              "    }\n",
              "\n",
              "    .dataframe tbody tr th {\n",
              "        vertical-align: top;\n",
              "    }\n",
              "\n",
              "    .dataframe thead th {\n",
              "        text-align: right;\n",
              "    }\n",
              "</style>\n",
              "<table border=\"1\" class=\"dataframe\">\n",
              "  <thead>\n",
              "    <tr style=\"text-align: right;\">\n",
              "      <th></th>\n",
              "      <th>id</th>\n",
              "      <th>breed</th>\n",
              "    </tr>\n",
              "  </thead>\n",
              "  <tbody>\n",
              "    <tr>\n",
              "      <th>9611</th>\n",
              "      <td>f1a18e29959bc5af735ebb5045f91b25</td>\n",
              "      <td>dhole</td>\n",
              "    </tr>\n",
              "    <tr>\n",
              "      <th>2238</th>\n",
              "      <td>37f1a6d8a5a2e3929afa8bdfc47aea2c</td>\n",
              "      <td>rhodesian_ridgeback</td>\n",
              "    </tr>\n",
              "    <tr>\n",
              "      <th>2392</th>\n",
              "      <td>3b8e713bd77cac3c4c0bfa228d784266</td>\n",
              "      <td>kelpie</td>\n",
              "    </tr>\n",
              "    <tr>\n",
              "      <th>3345</th>\n",
              "      <td>53114939929c74ccb6c64c373ed7bedb</td>\n",
              "      <td>gordon_setter</td>\n",
              "    </tr>\n",
              "    <tr>\n",
              "      <th>3773</th>\n",
              "      <td>5db15139f4f82e42088eef5678f0ab86</td>\n",
              "      <td>malinois</td>\n",
              "    </tr>\n",
              "  </tbody>\n",
              "</table>\n",
              "</div>"
            ],
            "text/plain": [
              "                                    id                breed\n",
              "9611  f1a18e29959bc5af735ebb5045f91b25                dhole\n",
              "2238  37f1a6d8a5a2e3929afa8bdfc47aea2c  rhodesian_ridgeback\n",
              "2392  3b8e713bd77cac3c4c0bfa228d784266               kelpie\n",
              "3345  53114939929c74ccb6c64c373ed7bedb        gordon_setter\n",
              "3773  5db15139f4f82e42088eef5678f0ab86             malinois"
            ]
          },
          "metadata": {
            "tags": []
          },
          "execution_count": 13
        }
      ]
    },
    {
      "cell_type": "code",
      "metadata": {
        "id": "TwxPqpBzDJzF",
        "colab_type": "code",
        "outputId": "a2c41e64-843c-415b-c302-2d300847fd35",
        "colab": {
          "base_uri": "https://localhost:8080/",
          "height": 221
        }
      },
      "source": [
        "labels[\"breed\"]"
      ],
      "execution_count": 0,
      "outputs": [
        {
          "output_type": "execute_result",
          "data": {
            "text/plain": [
              "0                     boston_bull\n",
              "1                           dingo\n",
              "2                        pekinese\n",
              "3                        bluetick\n",
              "4                golden_retriever\n",
              "                   ...           \n",
              "10217                      borzoi\n",
              "10218              dandie_dinmont\n",
              "10219                    airedale\n",
              "10220          miniature_pinscher\n",
              "10221    chesapeake_bay_retriever\n",
              "Name: breed, Length: 10222, dtype: object"
            ]
          },
          "metadata": {
            "tags": []
          },
          "execution_count": 14
        }
      ]
    },
    {
      "cell_type": "code",
      "metadata": {
        "id": "l0idS9Ttp353",
        "colab_type": "code",
        "outputId": "2e53e1a0-3a86-46a6-90e2-2de0cf20afb6",
        "colab": {
          "base_uri": "https://localhost:8080/",
          "height": 34
        }
      },
      "source": [
        "%matplotlib inline\n",
        "import numpy as np\n",
        "import pandas as pd\n",
        "import datetime as dt\n",
        "import matplotlib.pyplot as plt\n",
        "from mpl_toolkits.axes_grid1 import ImageGrid\n",
        "from os import listdir, makedirs\n",
        "from os.path import join, exists, expanduser\n",
        "from tqdm import tqdm\n",
        "from sklearn.metrics import log_loss, accuracy_score\n",
        "from keras.preprocessing import image\n",
        "from keras.applications.vgg16 import VGG16\n",
        "from keras.applications.resnet50 import ResNet50\n",
        "from keras.applications import xception\n",
        "from keras.applications import inception_v3\n",
        "from keras.applications.vgg16 import preprocess_input, decode_predictions\n",
        "from sklearn.linear_model import LogisticRegression"
      ],
      "execution_count": 0,
      "outputs": [
        {
          "output_type": "stream",
          "text": [
            "Using TensorFlow backend.\n"
          ],
          "name": "stderr"
        }
      ]
    },
    {
      "cell_type": "code",
      "metadata": {
        "id": "quzKKGmzbSIQ",
        "colab_type": "code",
        "colab": {}
      },
      "source": [
        "train_dir = '/content/train/'\n",
        "test_dir = '/content/test/'"
      ],
      "execution_count": 0,
      "outputs": []
    },
    {
      "cell_type": "code",
      "metadata": {
        "id": "d5uOqylwlsq1",
        "colab_type": "code",
        "outputId": "a117ca85-461c-4211-ff8a-91c0cdbb04c4",
        "colab": {
          "base_uri": "https://localhost:8080/",
          "height": 204
        }
      },
      "source": [
        "\n",
        "path = \"/content/drive/My Drive/CMPE 258 - Deep Learning/Assignments/Assignment 4/dog-breed-id/labels.csv\"\n",
        "labels = pd.read_csv(path)\n",
        "\n",
        "\n",
        "breeds = list(labels.groupby('breed').count().sort_values(by='id', ascending=False).head(10).index)\n",
        "labels = labels[labels['breed'].isin(breeds)]\n",
        "\n",
        "labels['id'] = labels['id'] + '.jpg'\n",
        "labels.head()"
      ],
      "execution_count": 0,
      "outputs": [
        {
          "output_type": "execute_result",
          "data": {
            "text/html": [
              "<div>\n",
              "<style scoped>\n",
              "    .dataframe tbody tr th:only-of-type {\n",
              "        vertical-align: middle;\n",
              "    }\n",
              "\n",
              "    .dataframe tbody tr th {\n",
              "        vertical-align: top;\n",
              "    }\n",
              "\n",
              "    .dataframe thead th {\n",
              "        text-align: right;\n",
              "    }\n",
              "</style>\n",
              "<table border=\"1\" class=\"dataframe\">\n",
              "  <thead>\n",
              "    <tr style=\"text-align: right;\">\n",
              "      <th></th>\n",
              "      <th>id</th>\n",
              "      <th>breed</th>\n",
              "    </tr>\n",
              "  </thead>\n",
              "  <tbody>\n",
              "    <tr>\n",
              "      <th>8</th>\n",
              "      <td>003df8b8a8b05244b1d920bb6cf451f9.jpg</td>\n",
              "      <td>basenji</td>\n",
              "    </tr>\n",
              "    <tr>\n",
              "      <th>9</th>\n",
              "      <td>0042188c895a2f14ef64a918ed9c7b64.jpg</td>\n",
              "      <td>scottish_deerhound</td>\n",
              "    </tr>\n",
              "    <tr>\n",
              "      <th>12</th>\n",
              "      <td>00693b8bc2470375cc744a6391d397ec.jpg</td>\n",
              "      <td>maltese_dog</td>\n",
              "    </tr>\n",
              "    <tr>\n",
              "      <th>57</th>\n",
              "      <td>0162b3e0144fb1d1ab82fbff3ace9938.jpg</td>\n",
              "      <td>shih-tzu</td>\n",
              "    </tr>\n",
              "    <tr>\n",
              "      <th>70</th>\n",
              "      <td>01b36cb1b80ab8c3a7d2b7128ad21bdc.jpg</td>\n",
              "      <td>samoyed</td>\n",
              "    </tr>\n",
              "  </tbody>\n",
              "</table>\n",
              "</div>"
            ],
            "text/plain": [
              "                                      id               breed\n",
              "8   003df8b8a8b05244b1d920bb6cf451f9.jpg             basenji\n",
              "9   0042188c895a2f14ef64a918ed9c7b64.jpg  scottish_deerhound\n",
              "12  00693b8bc2470375cc744a6391d397ec.jpg         maltese_dog\n",
              "57  0162b3e0144fb1d1ab82fbff3ace9938.jpg            shih-tzu\n",
              "70  01b36cb1b80ab8c3a7d2b7128ad21bdc.jpg             samoyed"
            ]
          },
          "metadata": {
            "tags": []
          },
          "execution_count": 20
        }
      ]
    },
    {
      "cell_type": "code",
      "metadata": {
        "id": "lGbfFP3Njk1g",
        "colab_type": "code",
        "outputId": "7d7e482a-8d96-4593-e17c-858532c96580",
        "colab": {
          "base_uri": "https://localhost:8080/",
          "height": 51
        }
      },
      "source": [
        "from tensorflow.keras.preprocessing.image import ImageDataGenerator\n",
        "BATCH = 32\n",
        "imagegen = ImageDataGenerator(\n",
        "    rescale=1./255,\n",
        "    zoom_range=.1,\n",
        "    width_shift_range=.1,\n",
        "    height_shift_range=.1,\n",
        "    rotation_range=30,\n",
        "    horizontal_flip=True,\n",
        "    validation_split=.2\n",
        "    )\n",
        "train_generator = imagegen.flow_from_dataframe(\n",
        "    dataframe=labels,\n",
        "    directory='/content/train',\n",
        "    x_col='id',\n",
        "    y_col='breed',\n",
        "    class_mode='categorical',\n",
        "    target_size=(224,224),\n",
        "    subset='training',\n",
        "    batch_size=BATCH)\n",
        "val_generator = imagegen.flow_from_dataframe(\n",
        "    dataframe=labels,\n",
        "    directory='/content/train',\n",
        "    x_col='id',\n",
        "    y_col='breed',\n",
        "    class_mode='categorical',\n",
        "    target_size=(224,224),\n",
        "    subset='validation',\n",
        "    batch_size=BATCH)"
      ],
      "execution_count": 0,
      "outputs": [
        {
          "output_type": "stream",
          "text": [
            "Found 913 validated image filenames belonging to 10 classes.\n",
            "Found 228 validated image filenames belonging to 10 classes.\n"
          ],
          "name": "stdout"
        }
      ]
    },
    {
      "cell_type": "code",
      "metadata": {
        "id": "R8Jn3yj-IDSr",
        "colab_type": "code",
        "outputId": "6bab9541-f70c-48eb-9ab3-476aa046b3ad",
        "colab": {
          "base_uri": "https://localhost:8080/",
          "height": 34
        }
      },
      "source": [
        "train_generator"
      ],
      "execution_count": 0,
      "outputs": [
        {
          "output_type": "execute_result",
          "data": {
            "text/plain": [
              "<keras_preprocessing.image.dataframe_iterator.DataFrameIterator at 0x7ff47f839940>"
            ]
          },
          "metadata": {
            "tags": []
          },
          "execution_count": 22
        }
      ]
    },
    {
      "cell_type": "code",
      "metadata": {
        "id": "fs4z_HV-Hqo2",
        "colab_type": "code",
        "outputId": "41b45fe4-4359-4bcf-e5e4-7eae0a3474d1",
        "colab": {
          "base_uri": "https://localhost:8080/",
          "height": 34
        }
      },
      "source": [
        "train = train_generator.image_data_generator\n",
        "train\n",
        "val = val_generator.image_data_generator\n",
        "val"
      ],
      "execution_count": 0,
      "outputs": [
        {
          "output_type": "execute_result",
          "data": {
            "text/plain": [
              "<tensorflow.python.keras.preprocessing.image.ImageDataGenerator at 0x7ff47f595e48>"
            ]
          },
          "metadata": {
            "tags": []
          },
          "execution_count": 23
        }
      ]
    },
    {
      "cell_type": "code",
      "metadata": {
        "id": "I11Xna09oLag",
        "colab_type": "code",
        "colab": {}
      },
      "source": [
        "from keras.applications import VGG16\n",
        "\n",
        "vgg16 = VGG16(weights='imagenet',\n",
        "                  include_top=False,\n",
        "                  input_shape=(224, 224, 3))\n",
        "\n",
        "vgg16.summary()"
      ],
      "execution_count": 0,
      "outputs": []
    },
    {
      "cell_type": "code",
      "metadata": {
        "id": "GmOuwp8Ooo4q",
        "colab_type": "code",
        "outputId": "2edaf5ba-1a87-4a0f-d3bc-9984d5d8510c",
        "colab": {
          "base_uri": "https://localhost:8080/",
          "height": 289
        }
      },
      "source": [
        "import keras\n",
        "\n",
        "model = keras.Sequential([\n",
        "    vgg16, \n",
        "    keras.layers.GlobalAveragePooling2D(),\n",
        "    keras.layers.Dense(512, activation='relu'),\n",
        "    keras.layers.Dense(10, activation='softmax')])\n",
        "\n",
        "model.compile(\n",
        "    optimizer='adam', \n",
        "    loss=keras.losses.categorical_crossentropy, \n",
        "    metrics=['accuracy'])\n",
        "\n",
        "model.summary()"
      ],
      "execution_count": 0,
      "outputs": [
        {
          "output_type": "stream",
          "text": [
            "Model: \"sequential_3\"\n",
            "_________________________________________________________________\n",
            "Layer (type)                 Output Shape              Param #   \n",
            "=================================================================\n",
            "vgg16 (Model)                (None, 7, 7, 512)         14714688  \n",
            "_________________________________________________________________\n",
            "global_average_pooling2d_3 ( (None, 512)               0         \n",
            "_________________________________________________________________\n",
            "dense_5 (Dense)              (None, 512)               262656    \n",
            "_________________________________________________________________\n",
            "dense_6 (Dense)              (None, 10)                5130      \n",
            "=================================================================\n",
            "Total params: 14,982,474\n",
            "Trainable params: 14,982,474\n",
            "Non-trainable params: 0\n",
            "_________________________________________________________________\n"
          ],
          "name": "stdout"
        }
      ]
    },
    {
      "cell_type": "code",
      "metadata": {
        "id": "vbjdijGsFZFZ",
        "colab_type": "code",
        "colab": {}
      },
      "source": [
        "from keras.optimizers import Adam\n",
        "\n",
        "\n",
        "opt = Adam(lr=0.001)\n",
        "base.compile(optimizer=opt, loss=keras.losses.categorical_crossentropy, metrics=['accuracy'])"
      ],
      "execution_count": 0,
      "outputs": []
    },
    {
      "cell_type": "code",
      "metadata": {
        "id": "DslACO0dIh_z",
        "colab_type": "code",
        "outputId": "d8db6995-921e-462f-f5fd-d7a5ef24a246",
        "colab": {
          "base_uri": "https://localhost:8080/",
          "height": 479
        }
      },
      "source": [
        "from keras.callbacks import ModelCheckpoint, EarlyStopping, TensorBoard\n",
        "import os, datetime\n",
        "\n",
        "\n",
        "log_dir = os.path.join(\"logs/vgg16-keras-transferlearning\", datetime.datetime.now().strftime(\"%Y%m%d-%H%M%S\"))\n",
        "\n",
        "\n",
        "tensorboard_callback = TensorBoard(log_dir=log_dir, histogram_freq=1)\n",
        "checkpoint = ModelCheckpoint(\"/content/drive/My Drive/CMPE 258 - Deep Learning/Assignments/Assignment 4/vgg16.h5\", \n",
        "                             monitor='val_acc', verbose=1, save_best_only=True, save_weights_only=False, mode='auto', period=1)\n",
        "early = EarlyStopping(monitor='val_acc', min_delta=0, patience=20, verbose=1, mode='auto')\n",
        "\n",
        "\n",
        "hist = model.fit_generator(steps_per_epoch=10,\n",
        "                           generator=train_generator, validation_data= val_generator, \n",
        "                           validation_steps=10,epochs=10, \n",
        "                           callbacks=[tensorboard_callback, checkpoint,early], shuffle=True)"
      ],
      "execution_count": 0,
      "outputs": [
        {
          "output_type": "stream",
          "text": [
            "Epoch 1/10\n",
            " 2/10 [=====>........................] - ETA: 15s - loss: 5.4103 - accuracy: 0.1250"
          ],
          "name": "stdout"
        },
        {
          "output_type": "stream",
          "text": [
            "/usr/local/lib/python3.6/dist-packages/keras/callbacks/callbacks.py:95: RuntimeWarning: Method (on_train_batch_end) is slow compared to the batch update (0.226313). Check your callbacks.\n",
            "  % (hook_name, delta_t_median), RuntimeWarning)\n"
          ],
          "name": "stderr"
        },
        {
          "output_type": "stream",
          "text": [
            "10/10 [==============================] - 11s 1s/step - loss: 3.3760 - accuracy: 0.0918 - val_loss: 2.2669 - val_accuracy: 0.0788\n"
          ],
          "name": "stdout"
        },
        {
          "output_type": "stream",
          "text": [
            "/usr/local/lib/python3.6/dist-packages/keras/callbacks/callbacks.py:707: RuntimeWarning: Can save best model only with val_acc available, skipping.\n",
            "  'skipping.' % (self.monitor), RuntimeWarning)\n",
            "/usr/local/lib/python3.6/dist-packages/keras/callbacks/callbacks.py:846: RuntimeWarning: Early stopping conditioned on metric `val_acc` which is not available. Available metrics are: val_loss,val_accuracy,loss,accuracy\n",
            "  (self.monitor, ','.join(list(logs.keys()))), RuntimeWarning\n"
          ],
          "name": "stderr"
        },
        {
          "output_type": "stream",
          "text": [
            "Epoch 2/10\n",
            "10/10 [==============================] - 7s 665ms/step - loss: 2.3268 - accuracy: 0.1063 - val_loss: 2.2941 - val_accuracy: 0.1027\n",
            "Epoch 3/10\n",
            "10/10 [==============================] - 7s 723ms/step - loss: 2.3145 - accuracy: 0.0969 - val_loss: 2.2946 - val_accuracy: 0.0685\n",
            "Epoch 4/10\n",
            "10/10 [==============================] - 8s 755ms/step - loss: 2.3082 - accuracy: 0.0875 - val_loss: 2.1845 - val_accuracy: 0.0985\n",
            "Epoch 5/10\n",
            "10/10 [==============================] - 6s 584ms/step - loss: 2.3068 - accuracy: 0.1213 - val_loss: 2.3036 - val_accuracy: 0.1062\n",
            "Epoch 6/10\n",
            "10/10 [==============================] - 6s 598ms/step - loss: 2.3007 - accuracy: 0.1311 - val_loss: 2.3587 - val_accuracy: 0.1062\n",
            "Epoch 7/10\n",
            "10/10 [==============================] - 7s 686ms/step - loss: 2.3041 - accuracy: 0.1031 - val_loss: 2.3033 - val_accuracy: 0.0925\n",
            "Epoch 8/10\n",
            "10/10 [==============================] - 7s 666ms/step - loss: 2.3005 - accuracy: 0.1219 - val_loss: 2.2885 - val_accuracy: 0.0947\n",
            "Epoch 9/10\n",
            "10/10 [==============================] - 6s 561ms/step - loss: 2.2995 - accuracy: 0.1377 - val_loss: 2.3075 - val_accuracy: 0.1199\n",
            "Epoch 10/10\n",
            "10/10 [==============================] - 7s 703ms/step - loss: 2.2945 - accuracy: 0.1219 - val_loss: 2.2888 - val_accuracy: 0.1062\n"
          ],
          "name": "stdout"
        }
      ]
    },
    {
      "cell_type": "code",
      "metadata": {
        "id": "sbKaCXCOpJm-",
        "colab_type": "code",
        "outputId": "42f227eb-c9ea-4b26-874d-3b70278bab3c",
        "colab": {
          "base_uri": "https://localhost:8080/",
          "height": 445
        }
      },
      "source": [
        "\n",
        "opt = SGD(lr=0.001)\n",
        "base.compile(optimizer=opt, loss=keras.losses.categorical_crossentropy, metrics=['accuracy'])\n",
        "\n",
        "log_dir = os.path.join(\"logs/vgg16-keras-transferlearning\", datetime.datetime.now().strftime(\"%Y%m%d-%H%M%S\"))\n",
        "\n",
        "\n",
        "tensorboard_callback = TensorBoard(log_dir=log_dir, histogram_freq=1)\n",
        "checkpoint = ModelCheckpoint(\"/content/drive/My Drive/CMPE 258 - Deep Learning/Assignments/Assignment 4/vgg16.h5\", \n",
        "                             monitor='val_acc', verbose=1, save_best_only=True, save_weights_only=False, mode='auto', period=1)\n",
        "early = EarlyStopping(monitor='val_acc', min_delta=0, patience=20, verbose=1, mode='auto')\n",
        "\n",
        "\n",
        "hist = model.fit_generator(steps_per_epoch=10,\n",
        "                           generator=train_generator, validation_data= val_generator, \n",
        "                           validation_steps=10,epochs=10, \n",
        "                           callbacks=[tensorboard_callback, checkpoint,early], shuffle=True)"
      ],
      "execution_count": 0,
      "outputs": [
        {
          "output_type": "stream",
          "text": [
            "Epoch 1/10\n",
            "10/10 [==============================] - 9s 915ms/step - loss: 2.2888 - accuracy: 0.1094 - val_loss: 2.2615 - val_accuracy: 0.1404\n"
          ],
          "name": "stdout"
        },
        {
          "output_type": "stream",
          "text": [
            "/usr/local/lib/python3.6/dist-packages/keras/callbacks/callbacks.py:707: RuntimeWarning: Can save best model only with val_acc available, skipping.\n",
            "  'skipping.' % (self.monitor), RuntimeWarning)\n",
            "/usr/local/lib/python3.6/dist-packages/keras/callbacks/callbacks.py:846: RuntimeWarning: Early stopping conditioned on metric `val_acc` which is not available. Available metrics are: val_loss,val_accuracy,loss,accuracy\n",
            "  (self.monitor, ','.join(list(logs.keys()))), RuntimeWarning\n"
          ],
          "name": "stderr"
        },
        {
          "output_type": "stream",
          "text": [
            "Epoch 2/10\n",
            "10/10 [==============================] - 6s 650ms/step - loss: 2.2703 - accuracy: 0.1705 - val_loss: 2.2741 - val_accuracy: 0.0993\n",
            "Epoch 3/10\n",
            "10/10 [==============================] - 7s 709ms/step - loss: 2.2789 - accuracy: 0.1469 - val_loss: 2.2336 - val_accuracy: 0.1062\n",
            "Epoch 4/10\n",
            "10/10 [==============================] - 7s 738ms/step - loss: 2.2869 - accuracy: 0.1531 - val_loss: 2.2192 - val_accuracy: 0.1098\n",
            "Epoch 5/10\n",
            "10/10 [==============================] - 6s 553ms/step - loss: 2.2628 - accuracy: 0.1246 - val_loss: 2.2443 - val_accuracy: 0.1473\n",
            "Epoch 6/10\n",
            "10/10 [==============================] - 6s 622ms/step - loss: 2.1971 - accuracy: 0.1406 - val_loss: 2.2337 - val_accuracy: 0.1233\n",
            "Epoch 7/10\n",
            "10/10 [==============================] - 7s 690ms/step - loss: 2.2371 - accuracy: 0.1531 - val_loss: 2.2672 - val_accuracy: 0.1336\n",
            "Epoch 8/10\n",
            "10/10 [==============================] - 6s 630ms/step - loss: 2.1835 - accuracy: 0.1902 - val_loss: 2.0357 - val_accuracy: 0.1591\n",
            "Epoch 9/10\n",
            "10/10 [==============================] - 6s 572ms/step - loss: 2.2210 - accuracy: 0.1406 - val_loss: 2.1872 - val_accuracy: 0.1644\n",
            "Epoch 10/10\n",
            "10/10 [==============================] - 6s 638ms/step - loss: 2.1805 - accuracy: 0.1639 - val_loss: 2.3329 - val_accuracy: 0.0822\n"
          ],
          "name": "stdout"
        }
      ]
    }
  ]
}