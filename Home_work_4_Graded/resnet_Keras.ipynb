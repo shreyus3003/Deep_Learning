{
  "nbformat": 4,
  "nbformat_minor": 0,
  "metadata": {
    "colab": {
      "name": "resnet_Keras.ipynb",
      "provenance": [],
      "collapsed_sections": [],
      "include_colab_link": true
    },
    "kernelspec": {
      "name": "python3",
      "display_name": "Python 3"
    },
    "accelerator": "GPU"
  },
  "cells": [
    {
      "cell_type": "markdown",
      "metadata": {
        "id": "view-in-github",
        "colab_type": "text"
      },
      "source": [
        "<a href=\"https://colab.research.google.com/github/shreyus3003/Deep_Learning/blob/master/Home_work_4_Graded/resnet_Keras.ipynb\" target=\"_parent\"><img src=\"https://colab.research.google.com/assets/colab-badge.svg\" alt=\"Open In Colab\"/></a>"
      ]
    },
    {
      "cell_type": "code",
      "metadata": {
        "id": "Hsxqp9x7ULfK",
        "colab_type": "code",
        "colab": {}
      },
      "source": [
        "# Libraries\n",
        "import matplotlib.pyplot as plt\n",
        "from matplotlib import pyplot\n",
        "import numpy as np\n",
        "\n",
        "from tensorflow.keras.datasets import mnist\n",
        "\n",
        "import keras\n",
        "from keras import models\n",
        "from keras.datasets import cifar100\n",
        "import keras.layers as layers\n",
        "from keras.layers import Dense, Conv2D, MaxPool2D , Flatten, BatchNormalization, Activation, AveragePooling2D\n",
        "from keras.models import Sequential\n",
        "from keras.utils import plot_model\n",
        "from keras.preprocessing import image\n",
        "from keras.initializers import Identity\n",
        "import tensorflow as tf\n",
        "import datetime\n",
        "from keras.optimizers import Adam\n",
        "from keras.callbacks import EarlyStopping, TensorBoard\n"
      ],
      "execution_count": 0,
      "outputs": []
    },
    {
      "cell_type": "code",
      "metadata": {
        "id": "L1cfqD3Ybe-K",
        "colab_type": "code",
        "outputId": "fdb05ca0-aa0e-41a8-b7ae-8dddd019e5bc",
        "colab": {
          "base_uri": "https://localhost:8080/",
          "height": 50
        }
      },
      "source": [
        "\n",
        "(x_train, y_train), (x_test, y_test) = cifar100.load_data()\n"
      ],
      "execution_count": 0,
      "outputs": [
        {
          "output_type": "stream",
          "text": [
            "Downloading data from https://www.cs.toronto.edu/~kriz/cifar-100-python.tar.gz\n",
            "169009152/169001437 [==============================] - 11s 0us/step\n"
          ],
          "name": "stdout"
        }
      ]
    },
    {
      "cell_type": "code",
      "metadata": {
        "id": "Tc-f2Hjqbgnf",
        "colab_type": "code",
        "outputId": "b4ab720b-7988-428e-c2ff-78180f417cf8",
        "colab": {
          "base_uri": "https://localhost:8080/",
          "height": 298
        }
      },
      "source": [
        "print(y_train[500])\n",
        "pyplot.imshow(x_train[500])"
      ],
      "execution_count": 0,
      "outputs": [
        {
          "output_type": "stream",
          "text": [
            "[41]\n"
          ],
          "name": "stdout"
        },
        {
          "output_type": "execute_result",
          "data": {
            "text/plain": [
              "<matplotlib.image.AxesImage at 0x7fb8ba4cc4e0>"
            ]
          },
          "metadata": {
            "tags": []
          },
          "execution_count": 9
        },
        {
          "output_type": "display_data",
          "data": {
            "image/png": "[encoded data removed]",
            "text/plain": [
              "<Figure size 432x288 with 1 Axes>"
            ]
          },
          "metadata": {
            "tags": [],
            "needs_background": "light"
          }
        }
      ]
    },
    {
      "cell_type": "code",
      "metadata": {
        "id": "vwR9v3Pqb-MS",
        "colab_type": "code",
        "outputId": "09d3f1ca-254d-4dbd-9da0-4984eb87e87f",
        "colab": {
          "base_uri": "https://localhost:8080/",
          "height": 33
        }
      },
      "source": [
        "y_train.shape"
      ],
      "execution_count": 0,
      "outputs": [
        {
          "output_type": "execute_result",
          "data": {
            "text/plain": [
              "(50000, 1)"
            ]
          },
          "metadata": {
            "tags": []
          },
          "execution_count": 11
        }
      ]
    },
    {
      "cell_type": "code",
      "metadata": {
        "id": "m_8ynYLMblEY",
        "colab_type": "code",
        "colab": {}
      },
      "source": [
        "np.random.seed(1)\n",
        "\n",
        "img, labels = (x_train[0:1000].reshape(1000, 32, 32, 3), y_train[0:1000])\n",
        "\n",
        "\n",
        "\n",
        "\n",
        "one_hot_labels = np.zeros((len(labels), 100))\n",
        "\n",
        "for i,l in enumerate(labels):\n",
        "  one_hot_labels[i][l] = 1\n",
        "labels = one_hot_labels\n",
        "\n",
        "\n",
        "test_label = np.zeros((len(y_test), 100))\n",
        "for i,l in enumerate(y_test):\n",
        "    test_label[i][l] = 1\n",
        "\n"
      ],
      "execution_count": 0,
      "outputs": []
    },
    {
      "cell_type": "code",
      "metadata": {
        "id": "oh-Zj4Q2byYf",
        "colab_type": "code",
        "colab": {}
      },
      "source": [
        "def create_model():\n",
        "\n",
        "  model = Sequential()\n",
        "  model.add(Conv2D(input_shape=(32,32,3),filters=64,kernel_size=(3,3),padding=\"same\"))\n",
        "  model.add(BatchNormalization())\n",
        "  model.add(Activation('relu'))\n",
        "\n",
        "\n",
        "\n",
        "  model.add(Conv2D(filters=64,kernel_size=(3,3),padding=\"same\", activation=\"relu\"))\n",
        "  model.add(MaxPool2D(pool_size=(2,2),strides=(2,2)))\n",
        "\n",
        "\n",
        "  model.add(Conv2D(filters=128, kernel_size=(3,3), padding=\"same\", activation=\"relu\"))\n",
        "\n",
        "  model.add(AveragePooling2D(pool_size=(2,2),strides=(2,2)))\n",
        "\n",
        "  model.add(Flatten())\n",
        "\n",
        "  model.add(Dense(units=100, activation=\"softmax\"))\n",
        "\n",
        "  return model"
      ],
      "execution_count": 0,
      "outputs": []
    },
    {
      "cell_type": "code",
      "metadata": {
        "id": "D1fzu6vAevZG",
        "colab_type": "code",
        "outputId": "3ad3eba8-207b-43f2-c32a-a7ba2130acec",
        "colab": {
          "base_uri": "https://localhost:8080/",
          "height": 440
        }
      },
      "source": [
        "model = create_model()\n",
        "model.summary()"
      ],
      "execution_count": 0,
      "outputs": [
        {
          "output_type": "stream",
          "text": [
            "Model: \"sequential_1\"\n",
            "_________________________________________________________________\n",
            "Layer (type)                 Output Shape              Param #   \n",
            "=================================================================\n",
            "conv2d_1 (Conv2D)            (None, 32, 32, 64)        1792      \n",
            "_________________________________________________________________\n",
            "batch_normalization_1 (Batch (None, 32, 32, 64)        256       \n",
            "_________________________________________________________________\n",
            "activation_1 (Activation)    (None, 32, 32, 64)        0         \n",
            "_________________________________________________________________\n",
            "conv2d_2 (Conv2D)            (None, 32, 32, 64)        36928     \n",
            "_________________________________________________________________\n",
            "max_pooling2d_1 (MaxPooling2 (None, 16, 16, 64)        0         \n",
            "_________________________________________________________________\n",
            "conv2d_3 (Conv2D)            (None, 16, 16, 128)       73856     \n",
            "_________________________________________________________________\n",
            "average_pooling2d_1 (Average (None, 8, 8, 128)         0         \n",
            "_________________________________________________________________\n",
            "flatten_1 (Flatten)          (None, 8192)              0         \n",
            "_________________________________________________________________\n",
            "dense_1 (Dense)              (None, 100)               819300    \n",
            "=================================================================\n",
            "Total params: 932,132\n",
            "Trainable params: 932,004\n",
            "Non-trainable params: 128\n",
            "_________________________________________________________________\n"
          ],
          "name": "stdout"
        }
      ]
    },
    {
      "cell_type": "code",
      "metadata": {
        "id": "sn1ZAKZtipzM",
        "colab_type": "code",
        "colab": {}
      },
      "source": [
        "\n",
        "one_hot_labels = np.zeros((len(y_train), 100))\n",
        "\n",
        "for i,l in enumerate(y_train):\n",
        "  one_hot_labels[i][l] = 1\n",
        "labels = one_hot_labels"
      ],
      "execution_count": 0,
      "outputs": []
    },
    {
      "cell_type": "code",
      "metadata": {
        "id": "nDtY_llZexdN",
        "colab_type": "code",
        "outputId": "623ab2fc-62cc-487a-dc85-7fc3e82bfd05",
        "colab": {
          "base_uri": "https://localhost:8080/",
          "height": 375
        }
      },
      "source": [
        "\n",
        "opt = Adam(lr=0.001)\n",
        "model.compile(optimizer=opt, loss=keras.losses.binary_crossentropy, metrics=['accuracy'])\n",
        "              \n",
        "\n",
        "log_dir=\"logs/resnet-keras-xtrain\" \n",
        "tensorboard_callback = TensorBoard(log_dir=log_dir, histogram_freq=1)\n",
        "\n",
        "\n",
        "model.fit(x=x_train, \n",
        "          y=labels, \n",
        "          epochs=10, \n",
        "          validation_data=(x_test, test_label), \n",
        "          callbacks=[tensorboard_callback])\n",
        "\n"
      ],
      "execution_count": 0,
      "outputs": [
        {
          "output_type": "stream",
          "text": [
            "Train on 50000 samples, validate on 10000 samples\n",
            "Epoch 1/10\n",
            "50000/50000 [==============================] - 44s 882us/step - loss: 0.0339 - accuracy: 0.9911 - val_loss: 0.0343 - val_accuracy: 0.9911\n",
            "Epoch 2/10\n",
            "50000/50000 [==============================] - 43s 868us/step - loss: 0.0259 - accuracy: 0.9926 - val_loss: 0.0353 - val_accuracy: 0.9911\n",
            "Epoch 3/10\n",
            "50000/50000 [==============================] - 44s 872us/step - loss: 0.0189 - accuracy: 0.9943 - val_loss: 0.0357 - val_accuracy: 0.9909\n",
            "Epoch 4/10\n",
            "50000/50000 [==============================] - 43s 869us/step - loss: 0.0130 - accuracy: 0.9959 - val_loss: 0.0443 - val_accuracy: 0.9898\n",
            "Epoch 5/10\n",
            "50000/50000 [==============================] - 44s 870us/step - loss: 0.0085 - accuracy: 0.9972 - val_loss: 0.0498 - val_accuracy: 0.9893\n",
            "Epoch 6/10\n",
            "50000/50000 [==============================] - 44s 875us/step - loss: 0.0058 - accuracy: 0.9980 - val_loss: 0.0628 - val_accuracy: 0.9884\n",
            "Epoch 7/10\n",
            "50000/50000 [==============================] - 44s 878us/step - loss: 0.0044 - accuracy: 0.9985 - val_loss: 0.0645 - val_accuracy: 0.9884\n",
            "Epoch 8/10\n",
            "50000/50000 [==============================] - 43s 869us/step - loss: 0.0036 - accuracy: 0.9987 - val_loss: 0.0714 - val_accuracy: 0.9882\n",
            "Epoch 9/10\n",
            "50000/50000 [==============================] - 44s 870us/step - loss: 0.0032 - accuracy: 0.9989 - val_loss: 0.0702 - val_accuracy: 0.9881\n",
            "Epoch 10/10\n",
            "50000/50000 [==============================] - 43s 866us/step - loss: 0.0027 - accuracy: 0.9991 - val_loss: 0.0724 - val_accuracy: 0.9881\n"
          ],
          "name": "stdout"
        },
        {
          "output_type": "execute_result",
          "data": {
            "text/plain": [
              "<keras.callbacks.callbacks.History at 0x7fb861190080>"
            ]
          },
          "metadata": {
            "tags": []
          },
          "execution_count": 36
        }
      ]
    },
    {
      "cell_type": "code",
      "metadata": {
        "id": "7QY0q7UtlbY8",
        "colab_type": "code",
        "colab": {}
      },
      "source": [
        ""
      ],
      "execution_count": 0,
      "outputs": []
    }
  ]
}