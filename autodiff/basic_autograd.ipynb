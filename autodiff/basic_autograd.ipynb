{
  "nbformat": 4,
  "nbformat_minor": 0,
  "metadata": {
    "colab": {
      "name": "HomeWork2_autograd.ipynb",
      "provenance": [],
      "include_colab_link": true
    },
    "kernelspec": {
      "name": "python3",
      "display_name": "Python 3"
    },
    "accelerator": "GPU"
  },
  "cells": [
    {
      "cell_type": "markdown",
      "metadata": {
        "id": "view-in-github",
        "colab_type": "text"
      },
      "source": [
        "<a href=\"https://colab.research.google.com/github/shreyus3003/Deep_Learning/blob/master/Home_work_2_Graded/HomeWork2_autograd.ipynb\" target=\"_parent\"><img src=\"https://colab.research.google.com/assets/colab-badge.svg\" alt=\"Open In Colab\"/></a>"
      ]
    },
    {
      "cell_type": "code",
      "metadata": {
        "id": "HG4R2au3thoi",
        "colab_type": "code",
        "colab": {}
      },
      "source": [
        "import numpy as np\n",
        "\n",
        "class Tensor:\n",
        "\n",
        "  def __init__(self, data, requires_grad=False):\n",
        "      self.data = data\n",
        "      if not isinstance(data, np.ndarray):\n",
        "          self.data = np.array(data)\n",
        "      self.requires_grad = requires_grad\n",
        "      self._grad = None\n",
        "      self._grad_fn = None\n",
        "\n",
        "  @property\n",
        "  def shape(self):\n",
        "      return self.data.shape\n",
        "\n",
        "  @property\n",
        "  def grad_fn(self):\n",
        "      if not self.requires_grad:\n",
        "          raise Exception('This tensor is not backpropagated')\n",
        "      return self._grad_fn\n",
        "\n",
        "  @property\n",
        "  def grad(self):\n",
        "      return self._grad\n",
        "\n",
        "  def backward(self, grad=None):\n",
        "      if not self.grad_fn:\n",
        "          return False\n",
        "\n",
        "      if grad is None and self._grad is None:\n",
        "          grad = self.__class__(1., requires_grad=False)\n",
        "\n",
        "      elif self.grad is not None:\n",
        "          grad = self._grad\n",
        "\n",
        "      if not self.requires_grad:\n",
        "          raise Exception('This tensor is not backpropagated')\n",
        "\n",
        "      self.grad_fn.backward(grad)\n",
        "      return True\n",
        "\n",
        "  def __str__(self):\n",
        "      return f'Tensor({str(self.data)})'\n",
        "\n",
        "  def add_grad(self, grad):\n",
        "      if self._grad is None:\n",
        "          self._grad = grad\n",
        "      else:\n",
        "          self._grad += grad\n",
        "\n",
        "  def __add__(self, o): \n",
        "      if self.data is not None:\n",
        "          self.data += o.data  \n",
        "          return self\n",
        "      self.data = o.data \n",
        "      return self\n",
        "\n",
        "class Op:\n",
        "\n",
        "  def forward(self):\n",
        "      raise NotImplemented\n",
        "\n",
        "  def backward(self, grad):\n",
        "      raise NotImplemented\n",
        "\n",
        "  def __call__(self, *args):\n",
        "      self.out = self.forward(*args)\n",
        "      self.out._grad_fn = self\n",
        "      return self.out\n",
        "\n",
        "\n",
        "class AddOp(Op):\n",
        "\n",
        "\n",
        "  def forward(self, x: Tensor, y: Tensor):\n",
        "      self.x = x\n",
        "      self.y = y\n",
        "      requires_grad = x.requires_grad or y.requires_grad\n",
        "      return Tensor(x.data + y.data, requires_grad=requires_grad)\n",
        "\n",
        "  def backward(self, grad):\n",
        "      if self.x.requires_grad:\n",
        "\n",
        "          if self.x.shape != grad.shape:\n",
        "              axis = np.argmax(np.abs(np.array(self.x.shape) - np.array(grad.shape)))\n",
        "              self.x.add_grad(Tensor(grad.data.sum(axis=axis, keepdims=True)))\n",
        "          else:\n",
        "              self.x.add_grad(grad)\n",
        "          if self.x.grad_fn:\n",
        "              self.x.backward()\n",
        "      if self.y.requires_grad:\n",
        "          if self.y.shape != grad.shape:\n",
        "              axis = np.argmax(np.abs(np.array(self.y.shape) - np.array(grad.shape)))\n",
        "              self.y.add_grad(Tensor(grad.data.sum(axis=axis, keepdims=True)))\n",
        "          else:\n",
        "              self.y.add_grad(grad)\n",
        "          if self.y.grad_fn:\n",
        "              self.y.backward()\n",
        "\n",
        "\n",
        "class MulOp(Op):\n",
        "\n",
        "\n",
        "  def forward(self, x: Tensor, y: Tensor):\n",
        "      self.x = x\n",
        "      self.y = y\n",
        "      requires_grad = x.requires_grad or y.requires_grad\n",
        "      return Tensor(x.data * y.data, requires_grad=requires_grad)\n",
        "\n",
        "  def backward(self, grad):\n",
        "      if self.x.requires_grad:\n",
        "          self.x.add_grad(Tensor(grad.data * self.y.data, False))\n",
        "          if self.x.grad_fn:\n",
        "              self.x.backward()\n",
        "      if self.y.requires_grad:\n",
        "          self.y.add_grad(Tensor(grad.data * self.x.data, False))\n",
        "          if self.y.grad_fn:\n",
        "              self.y.backward()\n"
      ],
      "execution_count": 0,
      "outputs": []
    },
    {
      "cell_type": "code",
      "metadata": {
        "id": "V1mVvFScB02P",
        "colab_type": "code",
        "colab": {}
      },
      "source": [
        "class Layer:\n",
        "\n",
        "  def forward(self):\n",
        "      raise NotImplemented\n",
        "  \n",
        "  def backward(self, grad):\n",
        "      raise NotImplemented\n",
        "\n",
        "  def __call__(self, *args):\n",
        "      return self.forward(*args)\n",
        "\n",
        "class Sigmoid:\n",
        "\n",
        "  def forward(self,x):\n",
        "      self.x = x   \n",
        "      return 1/(1+np.exp(-x))\n",
        "    \n",
        "  def backward(self, grad):\n",
        "      grad_input = self.x*(1-self.x) * grad\n",
        "      return grad_input\n",
        "\n",
        "class Relu(Layer):\n",
        "\n",
        "  def forward(self,x):\n",
        "      self.x = x\n",
        "      return np.maximum(np.zeros_like(x), x)\n",
        "    \n",
        "  def backward(self, grad):\n",
        "      grad_input = (self.x > 0) * grad\n",
        "      return grad_input\n",
        "\n",
        "class SoftmaxCrossentropyWithLogits(Layer):\n",
        "\n",
        "  def forward(self, x, y):\n",
        "      self.x = x\n",
        "      self.y = y\n",
        "\n",
        "      exps = np.exp(x) \n",
        "      self.softmax = exps / np.sum(exps, axis=-1, keepdims=True)\n",
        "\n",
        "      logits = self.softmax[np.arange(x.shape[0]),y]\n",
        "      log_likelihood = -np.log(logits)\n",
        "      loss = np.sum(log_likelihood) / x.shape[0]\n",
        "      return loss\n",
        "    \n",
        "  def backward(self, grad=None):\n",
        "      batch = self.x.shape[0]\n",
        "      grad = self.softmax\n",
        "      grad[np.arange(batch),self.y] -= 1\n",
        "      grad = grad/batch\n",
        "      return grad\n",
        "\n",
        "class MSE(Layer):\n",
        "\n",
        "  def forward(self, x, y):\n",
        "      self.x = x\n",
        "      self.y = y\n",
        "      return ((x - y)**2) / (self.x.shape[0]*2)\n",
        "\n",
        "  def backward(self, grad=None):\n",
        "      return (self.x - self.y) / self.x.shape[0]\n"
      ],
      "execution_count": 0,
      "outputs": []
    },
    {
      "cell_type": "code",
      "metadata": {
        "id": "0ZXS-q2HDkQl",
        "colab_type": "code",
        "colab": {}
      },
      "source": [
        "class Linear(Layer):\n",
        "\n",
        "  def __init__(self, input, output, lr=0.0001):\n",
        "    super().__init__()\n",
        "    self.weight = 2*np.random.random((input, output)) - 1\n",
        "    self.bias = 2*np.random.random((output)) - 1\n",
        "    self.lr = lr\n",
        "\n",
        "  def forward(self, x):\n",
        "    self.x = x\n",
        "    return np.dot(x,self.weight) + self.bias\n",
        "\n",
        "\n",
        "  def backward(self, grad):\n",
        "    bias_grad = grad.mean(axis=0)*self.x.shape[0]\n",
        "    weight_grad = np.dot(self.x.T, grad)\n",
        "    grad_input = np.dot(grad, self.weight.T)\n",
        "    \n",
        "    self.weight -= weight_grad * self.lr\n",
        "    self.bias -= bias_grad * self.lr\n",
        "\n",
        "    return grad_input"
      ],
      "execution_count": 0,
      "outputs": []
    },
    {
      "cell_type": "code",
      "metadata": {
        "id": "OKvrxcvnsY2H",
        "colab_type": "code",
        "colab": {}
      },
      "source": [
        "from torchvision.datasets import MNIST\n",
        "from torchvision import transforms\n",
        "from torch.utils.data import DataLoader\n",
        "import numpy as np\n",
        "import matplotlib.pyplot as plt\n",
        "\n",
        "\n",
        "class Model(Layer):\n",
        "\n",
        "  def __init__(self, lr=0.00001):\n",
        "      self.lr = lr\n",
        "      self.layers = [\n",
        "          Linear(784,100, lr=self.lr),\n",
        "          Relu(),\n",
        "          Linear(100,200, lr=self.lr),\n",
        "          Relu(),\n",
        "          Linear(200,10, lr=self.lr)        \n",
        "      ]\n",
        "\n",
        "  def forward(self,x):\n",
        "      for l in self.layers:\n",
        "          x = l(x)\n",
        "      return x\n",
        "\n",
        "  def backward(self, grad):\n",
        "      for l in self.layers[::-1]:\n",
        "          grad = l.backward(grad)\n",
        "\n",
        "      return grad\n",
        "\n",
        "\n"
      ],
      "execution_count": 0,
      "outputs": []
    },
    {
      "cell_type": "code",
      "metadata": {
        "id": "CPXOv3syWwhf",
        "colab_type": "code",
        "colab": {
          "base_uri": "https://localhost:8080/",
          "height": 1000
        },
        "outputId": "d6930ed5-072c-4029-978b-bcff2582606b"
      },
      "source": [
        "simple = transforms.Compose([\n",
        "    transforms.ToTensor(), # converts to [0,1] interval\n",
        "])\n",
        "ds = MNIST('./mnist', download=True, transform=simple)\n",
        "ld = DataLoader(ds, batch_size=2, pin_memory=True, drop_last=True) \n",
        "\n",
        "mm = Model()\n",
        "loss = SoftmaxCrossentropyWithLogits()\n",
        "_loss_avg = 0 \n",
        "\n",
        "\n",
        "for epochs in range(10):\n",
        "    cnt = 0\n",
        "    total = 0\n",
        "    for i, (img, label) in enumerate(ld):\n",
        "        x = img.view(2,-1).numpy()\n",
        "\n",
        "        res = mm(x)\n",
        "        _loss = loss(res, label.numpy())\n",
        "        total += label.data.size(0)\n",
        "        #print(total)\n",
        "        #cnt += (res == label.numpy()).sum()\n",
        "        cnt += int(np.argmax(res) == np.argmax(label.numpy()))\n",
        "        _loss_avg += _loss.mean() # running loss mean\n",
        "        grad = loss.backward(1)\n",
        "        mm.backward(grad)\n",
        "\n",
        "        if i % 1000 == 0:\n",
        "          print('Train - Epoch %d, Batch: %d, Loss: %f' % (epochs, i, _loss_avg/1000))\n",
        "          _loss_avg = 0\n",
        "        loss.backward()\n",
        "        # optimizer.step()\n",
        "        mm.backward(grad)\n",
        "        #avg_loss /= len(data_test)\n",
        "    print(' Accuracy: %f' % (float(cnt) / len(ds)))\n"
      ],
      "execution_count": 68,
      "outputs": [
        {
          "output_type": "stream",
          "text": [
            "Train - Epoch 0, Batch: 0, Loss: 0.297444\n",
            "Train - Epoch 0, Batch: 1000, Loss: 127.260155\n",
            "Train - Epoch 0, Batch: 2000, Loss: 74.195702\n",
            "Train - Epoch 0, Batch: 3000, Loss: 54.780910\n",
            "Train - Epoch 0, Batch: 4000, Loss: 43.540521\n",
            "Train - Epoch 0, Batch: 5000, Loss: 39.814474\n",
            "Train - Epoch 0, Batch: 6000, Loss: 33.861705\n",
            "Train - Epoch 0, Batch: 7000, Loss: 32.655650\n",
            "Train - Epoch 0, Batch: 8000, Loss: 32.593637\n",
            "Train - Epoch 0, Batch: 9000, Loss: 28.926801\n",
            "Train - Epoch 0, Batch: 10000, Loss: 23.248521\n",
            "Train - Epoch 0, Batch: 11000, Loss: 23.116945\n",
            "Train - Epoch 0, Batch: 12000, Loss: 23.351633\n",
            "Train - Epoch 0, Batch: 13000, Loss: 21.474357\n",
            "Train - Epoch 0, Batch: 14000, Loss: 20.736564\n",
            "Train - Epoch 0, Batch: 15000, Loss: 19.564460\n",
            "Train - Epoch 0, Batch: 16000, Loss: 21.144170\n",
            "Train - Epoch 0, Batch: 17000, Loss: 19.467009\n",
            "Train - Epoch 0, Batch: 18000, Loss: 17.570765\n",
            "Train - Epoch 0, Batch: 19000, Loss: 18.207660\n",
            "Train - Epoch 0, Batch: 20000, Loss: 17.332767\n",
            "Train - Epoch 0, Batch: 21000, Loss: 16.573497\n",
            "Train - Epoch 0, Batch: 22000, Loss: 15.598748\n",
            "Train - Epoch 0, Batch: 23000, Loss: 15.876808\n",
            "Train - Epoch 0, Batch: 24000, Loss: 15.482476\n",
            "Train - Epoch 0, Batch: 25000, Loss: 13.990370\n",
            "Train - Epoch 0, Batch: 26000, Loss: 13.199820\n",
            "Train - Epoch 0, Batch: 27000, Loss: 13.234459\n",
            "Train - Epoch 0, Batch: 28000, Loss: 11.429573\n",
            "Train - Epoch 0, Batch: 29000, Loss: 13.611026\n",
            " Accuracy: 0.012817\n",
            "Train - Epoch 1, Batch: 0, Loss: 9.485327\n",
            "Train - Epoch 1, Batch: 1000, Loss: 12.271794\n",
            "Train - Epoch 1, Batch: 2000, Loss: 11.461526\n",
            "Train - Epoch 1, Batch: 3000, Loss: 12.637636\n",
            "Train - Epoch 1, Batch: 4000, Loss: 11.821825\n",
            "Train - Epoch 1, Batch: 5000, Loss: 13.132360\n",
            "Train - Epoch 1, Batch: 6000, Loss: 10.682410\n",
            "Train - Epoch 1, Batch: 7000, Loss: 12.100831\n",
            "Train - Epoch 1, Batch: 8000, Loss: 13.306784\n",
            "Train - Epoch 1, Batch: 9000, Loss: 11.994611\n",
            "Train - Epoch 1, Batch: 10000, Loss: 9.490790\n",
            "Train - Epoch 1, Batch: 11000, Loss: 10.468124\n",
            "Train - Epoch 1, Batch: 12000, Loss: 10.496836\n",
            "Train - Epoch 1, Batch: 13000, Loss: 10.378566\n",
            "Train - Epoch 1, Batch: 14000, Loss: 10.970016\n",
            "Train - Epoch 1, Batch: 15000, Loss: 10.267545\n",
            "Train - Epoch 1, Batch: 16000, Loss: 11.794940\n",
            "Train - Epoch 1, Batch: 17000, Loss: 10.871496\n",
            "Train - Epoch 1, Batch: 18000, Loss: 9.740567\n",
            "Train - Epoch 1, Batch: 19000, Loss: 10.800308\n",
            "Train - Epoch 1, Batch: 20000, Loss: 10.294470\n",
            "Train - Epoch 1, Batch: 21000, Loss: 9.736492\n",
            "Train - Epoch 1, Batch: 22000, Loss: 9.699220\n",
            "Train - Epoch 1, Batch: 23000, Loss: 9.730726\n",
            "Train - Epoch 1, Batch: 24000, Loss: 9.809017\n",
            "Train - Epoch 1, Batch: 25000, Loss: 8.977793\n",
            "Train - Epoch 1, Batch: 26000, Loss: 8.630439\n",
            "Train - Epoch 1, Batch: 27000, Loss: 8.597853\n",
            "Train - Epoch 1, Batch: 28000, Loss: 7.556184\n",
            "Train - Epoch 1, Batch: 29000, Loss: 8.968937\n",
            " Accuracy: 0.011350\n",
            "Train - Epoch 2, Batch: 0, Loss: 6.143904\n",
            "Train - Epoch 2, Batch: 1000, Loss: 8.537267\n",
            "Train - Epoch 2, Batch: 2000, Loss: 7.646337\n",
            "Train - Epoch 2, Batch: 3000, Loss: 8.862281\n",
            "Train - Epoch 2, Batch: 4000, Loss: 8.211118\n",
            "Train - Epoch 2, Batch: 5000, Loss: 9.531719\n",
            "Train - Epoch 2, Batch: 6000, Loss: 7.662472\n",
            "Train - Epoch 2, Batch: 7000, Loss: 8.387705\n",
            "Train - Epoch 2, Batch: 8000, Loss: 9.738539\n",
            "Train - Epoch 2, Batch: 9000, Loss: 8.661581\n",
            "Train - Epoch 2, Batch: 10000, Loss: 6.849312\n",
            "Train - Epoch 2, Batch: 11000, Loss: 7.894100\n",
            "Train - Epoch 2, Batch: 12000, Loss: 7.788587\n",
            "Train - Epoch 2, Batch: 13000, Loss: 7.721507\n",
            "Train - Epoch 2, Batch: 14000, Loss: 8.466633\n",
            "Train - Epoch 2, Batch: 15000, Loss: 7.582108\n",
            "Train - Epoch 2, Batch: 16000, Loss: 9.136616\n",
            "Train - Epoch 2, Batch: 17000, Loss: 8.171348\n",
            "Train - Epoch 2, Batch: 18000, Loss: 7.348168\n",
            "Train - Epoch 2, Batch: 19000, Loss: 8.359266\n",
            "Train - Epoch 2, Batch: 20000, Loss: 8.017421\n",
            "Train - Epoch 2, Batch: 21000, Loss: 7.669705\n",
            "Train - Epoch 2, Batch: 22000, Loss: 7.550752\n",
            "Train - Epoch 2, Batch: 23000, Loss: 7.603660\n",
            "Train - Epoch 2, Batch: 24000, Loss: 7.642278\n",
            "Train - Epoch 2, Batch: 25000, Loss: 7.084283\n",
            "Train - Epoch 2, Batch: 26000, Loss: 6.924434\n",
            "Train - Epoch 2, Batch: 27000, Loss: 6.705402\n",
            "Train - Epoch 2, Batch: 28000, Loss: 5.937276\n",
            "Train - Epoch 2, Batch: 29000, Loss: 6.990467\n",
            " Accuracy: 0.011433\n",
            "Train - Epoch 3, Batch: 0, Loss: 4.796774\n",
            "Train - Epoch 3, Batch: 1000, Loss: 6.844964\n",
            "Train - Epoch 3, Batch: 2000, Loss: 5.946099\n",
            "Train - Epoch 3, Batch: 3000, Loss: 7.307940\n",
            "Train - Epoch 3, Batch: 4000, Loss: 6.529514\n",
            "Train - Epoch 3, Batch: 5000, Loss: 7.833023\n",
            "Train - Epoch 3, Batch: 6000, Loss: 6.229970\n",
            "Train - Epoch 3, Batch: 7000, Loss: 6.718381\n",
            "Train - Epoch 3, Batch: 8000, Loss: 7.976516\n",
            "Train - Epoch 3, Batch: 9000, Loss: 7.003549\n",
            "Train - Epoch 3, Batch: 10000, Loss: 5.602415\n",
            "Train - Epoch 3, Batch: 11000, Loss: 6.554696\n",
            "Train - Epoch 3, Batch: 12000, Loss: 6.451252\n",
            "Train - Epoch 3, Batch: 13000, Loss: 6.387577\n",
            "Train - Epoch 3, Batch: 14000, Loss: 7.135439\n",
            "Train - Epoch 3, Batch: 15000, Loss: 6.212438\n",
            "Train - Epoch 3, Batch: 16000, Loss: 7.689098\n",
            "Train - Epoch 3, Batch: 17000, Loss: 6.705241\n",
            "Train - Epoch 3, Batch: 18000, Loss: 6.108651\n",
            "Train - Epoch 3, Batch: 19000, Loss: 7.017039\n",
            "Train - Epoch 3, Batch: 20000, Loss: 6.696019\n",
            "Train - Epoch 3, Batch: 21000, Loss: 6.531350\n",
            "Train - Epoch 3, Batch: 22000, Loss: 6.284265\n",
            "Train - Epoch 3, Batch: 23000, Loss: 6.398229\n",
            "Train - Epoch 3, Batch: 24000, Loss: 6.419691\n",
            "Train - Epoch 3, Batch: 25000, Loss: 6.068440\n",
            "Train - Epoch 3, Batch: 26000, Loss: 5.888172\n",
            "Train - Epoch 3, Batch: 27000, Loss: 5.568489\n",
            "Train - Epoch 3, Batch: 28000, Loss: 4.995009\n",
            "Train - Epoch 3, Batch: 29000, Loss: 5.830824\n",
            " Accuracy: 0.011817\n",
            "Train - Epoch 4, Batch: 0, Loss: 4.020809\n",
            "Train - Epoch 4, Batch: 1000, Loss: 5.794343\n",
            "Train - Epoch 4, Batch: 2000, Loss: 4.894838\n",
            "Train - Epoch 4, Batch: 3000, Loss: 6.316904\n",
            "Train - Epoch 4, Batch: 4000, Loss: 5.508123\n",
            "Train - Epoch 4, Batch: 5000, Loss: 6.770401\n",
            "Train - Epoch 4, Batch: 6000, Loss: 5.306798\n",
            "Train - Epoch 4, Batch: 7000, Loss: 5.759111\n",
            "Train - Epoch 4, Batch: 8000, Loss: 6.834837\n",
            "Train - Epoch 4, Batch: 9000, Loss: 5.987727\n",
            "Train - Epoch 4, Batch: 10000, Loss: 4.757740\n",
            "Train - Epoch 4, Batch: 11000, Loss: 5.678835\n",
            "Train - Epoch 4, Batch: 12000, Loss: 5.603509\n",
            "Train - Epoch 4, Batch: 13000, Loss: 5.558123\n",
            "Train - Epoch 4, Batch: 14000, Loss: 6.262305\n",
            "Train - Epoch 4, Batch: 15000, Loss: 5.302524\n",
            "Train - Epoch 4, Batch: 16000, Loss: 6.721923\n",
            "Train - Epoch 4, Batch: 17000, Loss: 5.757865\n",
            "Train - Epoch 4, Batch: 18000, Loss: 5.332539\n",
            "Train - Epoch 4, Batch: 19000, Loss: 6.108685\n",
            "Train - Epoch 4, Batch: 20000, Loss: 5.781312\n",
            "Train - Epoch 4, Batch: 21000, Loss: 5.728840\n",
            "Train - Epoch 4, Batch: 22000, Loss: 5.453660\n",
            "Train - Epoch 4, Batch: 23000, Loss: 5.595455\n",
            "Train - Epoch 4, Batch: 24000, Loss: 5.599226\n",
            "Train - Epoch 4, Batch: 25000, Loss: 5.360070\n",
            "Train - Epoch 4, Batch: 26000, Loss: 5.146683\n",
            "Train - Epoch 4, Batch: 27000, Loss: 4.800163\n",
            "Train - Epoch 4, Batch: 28000, Loss: 4.347344\n",
            "Train - Epoch 4, Batch: 29000, Loss: 5.052541\n",
            " Accuracy: 0.011950\n",
            "Train - Epoch 5, Batch: 0, Loss: 3.519062\n",
            "Train - Epoch 5, Batch: 1000, Loss: 5.111053\n",
            "Train - Epoch 5, Batch: 2000, Loss: 4.178108\n",
            "Train - Epoch 5, Batch: 3000, Loss: 5.607061\n",
            "Train - Epoch 5, Batch: 4000, Loss: 4.815771\n",
            "Train - Epoch 5, Batch: 5000, Loss: 6.019439\n",
            "Train - Epoch 5, Batch: 6000, Loss: 4.646560\n",
            "Train - Epoch 5, Batch: 7000, Loss: 5.069450\n",
            "Train - Epoch 5, Batch: 8000, Loss: 6.028085\n",
            "Train - Epoch 5, Batch: 9000, Loss: 5.278047\n",
            "Train - Epoch 5, Batch: 10000, Loss: 4.172572\n",
            "Train - Epoch 5, Batch: 11000, Loss: 5.063834\n",
            "Train - Epoch 5, Batch: 12000, Loss: 4.991766\n",
            "Train - Epoch 5, Batch: 13000, Loss: 4.930194\n",
            "Train - Epoch 5, Batch: 14000, Loss: 5.636325\n",
            "Train - Epoch 5, Batch: 15000, Loss: 4.663981\n",
            "Train - Epoch 5, Batch: 16000, Loss: 6.011043\n",
            "Train - Epoch 5, Batch: 17000, Loss: 5.096886\n",
            "Train - Epoch 5, Batch: 18000, Loss: 4.725751\n",
            "Train - Epoch 5, Batch: 19000, Loss: 5.399308\n",
            "Train - Epoch 5, Batch: 20000, Loss: 5.123811\n",
            "Train - Epoch 5, Batch: 21000, Loss: 5.133095\n",
            "Train - Epoch 5, Batch: 22000, Loss: 4.866170\n",
            "Train - Epoch 5, Batch: 23000, Loss: 5.010244\n",
            "Train - Epoch 5, Batch: 24000, Loss: 4.992307\n",
            "Train - Epoch 5, Batch: 25000, Loss: 4.816318\n",
            "Train - Epoch 5, Batch: 26000, Loss: 4.583096\n",
            "Train - Epoch 5, Batch: 27000, Loss: 4.247394\n",
            "Train - Epoch 5, Batch: 28000, Loss: 3.864796\n",
            "Train - Epoch 5, Batch: 29000, Loss: 4.505872\n",
            " Accuracy: 0.012033\n",
            "Train - Epoch 6, Batch: 0, Loss: 3.166589\n",
            "Train - Epoch 6, Batch: 1000, Loss: 4.603720\n",
            "Train - Epoch 6, Batch: 2000, Loss: 3.649553\n",
            "Train - Epoch 6, Batch: 3000, Loss: 5.064310\n",
            "Train - Epoch 6, Batch: 4000, Loss: 4.319574\n",
            "Train - Epoch 6, Batch: 5000, Loss: 5.444251\n",
            "Train - Epoch 6, Batch: 6000, Loss: 4.168603\n",
            "Train - Epoch 6, Batch: 7000, Loss: 4.563481\n",
            "Train - Epoch 6, Batch: 8000, Loss: 5.393530\n",
            "Train - Epoch 6, Batch: 9000, Loss: 4.737519\n",
            "Train - Epoch 6, Batch: 10000, Loss: 3.744579\n",
            "Train - Epoch 6, Batch: 11000, Loss: 4.596620\n",
            "Train - Epoch 6, Batch: 12000, Loss: 4.534532\n",
            "Train - Epoch 6, Batch: 13000, Loss: 4.428093\n",
            "Train - Epoch 6, Batch: 14000, Loss: 5.151241\n",
            "Train - Epoch 6, Batch: 15000, Loss: 4.191959\n",
            "Train - Epoch 6, Batch: 16000, Loss: 5.447272\n",
            "Train - Epoch 6, Batch: 17000, Loss: 4.596307\n",
            "Train - Epoch 6, Batch: 18000, Loss: 4.275454\n",
            "Train - Epoch 6, Batch: 19000, Loss: 4.862074\n",
            "Train - Epoch 6, Batch: 20000, Loss: 4.628205\n",
            "Train - Epoch 6, Batch: 21000, Loss: 4.659960\n",
            "Train - Epoch 6, Batch: 22000, Loss: 4.414128\n",
            "Train - Epoch 6, Batch: 23000, Loss: 4.555361\n",
            "Train - Epoch 6, Batch: 24000, Loss: 4.538043\n",
            "Train - Epoch 6, Batch: 25000, Loss: 4.386055\n",
            "Train - Epoch 6, Batch: 26000, Loss: 4.155615\n",
            "Train - Epoch 6, Batch: 27000, Loss: 3.824881\n",
            "Train - Epoch 6, Batch: 28000, Loss: 3.482134\n",
            "Train - Epoch 6, Batch: 29000, Loss: 4.098303\n",
            " Accuracy: 0.012017\n",
            "Train - Epoch 7, Batch: 0, Loss: 2.892278\n",
            "Train - Epoch 7, Batch: 1000, Loss: 4.209669\n",
            "Train - Epoch 7, Batch: 2000, Loss: 3.272583\n",
            "Train - Epoch 7, Batch: 3000, Loss: 4.619471\n",
            "Train - Epoch 7, Batch: 4000, Loss: 3.937169\n",
            "Train - Epoch 7, Batch: 5000, Loss: 4.992605\n",
            "Train - Epoch 7, Batch: 6000, Loss: 3.798874\n",
            "Train - Epoch 7, Batch: 7000, Loss: 4.166885\n",
            "Train - Epoch 7, Batch: 8000, Loss: 4.884625\n",
            "Train - Epoch 7, Batch: 9000, Loss: 4.329255\n",
            "Train - Epoch 7, Batch: 10000, Loss: 3.402631\n",
            "Train - Epoch 7, Batch: 11000, Loss: 4.226691\n",
            "Train - Epoch 7, Batch: 12000, Loss: 4.179273\n",
            "Train - Epoch 7, Batch: 13000, Loss: 4.046079\n",
            "Train - Epoch 7, Batch: 14000, Loss: 4.762925\n",
            "Train - Epoch 7, Batch: 15000, Loss: 3.813146\n",
            "Train - Epoch 7, Batch: 16000, Loss: 4.979263\n",
            "Train - Epoch 7, Batch: 17000, Loss: 4.204341\n",
            "Train - Epoch 7, Batch: 18000, Loss: 3.912637\n",
            "Train - Epoch 7, Batch: 19000, Loss: 4.445574\n",
            "Train - Epoch 7, Batch: 20000, Loss: 4.225011\n",
            "Train - Epoch 7, Batch: 21000, Loss: 4.264401\n",
            "Train - Epoch 7, Batch: 22000, Loss: 4.064253\n",
            "Train - Epoch 7, Batch: 23000, Loss: 4.199438\n",
            "Train - Epoch 7, Batch: 24000, Loss: 4.166949\n",
            "Train - Epoch 7, Batch: 25000, Loss: 4.043878\n",
            "Train - Epoch 7, Batch: 26000, Loss: 3.807009\n",
            "Train - Epoch 7, Batch: 27000, Loss: 3.499173\n",
            "Train - Epoch 7, Batch: 28000, Loss: 3.186360\n",
            "Train - Epoch 7, Batch: 29000, Loss: 3.750874\n",
            " Accuracy: 0.012100\n",
            "Train - Epoch 8, Batch: 0, Loss: 2.672431\n",
            "Train - Epoch 8, Batch: 1000, Loss: 3.874083\n",
            "Train - Epoch 8, Batch: 2000, Loss: 2.982699\n",
            "Train - Epoch 8, Batch: 3000, Loss: 4.259131\n",
            "Train - Epoch 8, Batch: 4000, Loss: 3.623668\n",
            "Train - Epoch 8, Batch: 5000, Loss: 4.615949\n",
            "Train - Epoch 8, Batch: 6000, Loss: 3.490471\n",
            "Train - Epoch 8, Batch: 7000, Loss: 3.851058\n",
            "Train - Epoch 8, Batch: 8000, Loss: 4.468584\n",
            "Train - Epoch 8, Batch: 9000, Loss: 3.990360\n",
            "Train - Epoch 8, Batch: 10000, Loss: 3.122096\n",
            "Train - Epoch 8, Batch: 11000, Loss: 3.926196\n",
            "Train - Epoch 8, Batch: 12000, Loss: 3.893038\n",
            "Train - Epoch 8, Batch: 13000, Loss: 3.748600\n",
            "Train - Epoch 8, Batch: 14000, Loss: 4.432779\n",
            "Train - Epoch 8, Batch: 15000, Loss: 3.511212\n",
            "Train - Epoch 8, Batch: 16000, Loss: 4.590212\n",
            "Train - Epoch 8, Batch: 17000, Loss: 3.883041\n",
            "Train - Epoch 8, Batch: 18000, Loss: 3.606425\n",
            "Train - Epoch 8, Batch: 19000, Loss: 4.113268\n",
            "Train - Epoch 8, Batch: 20000, Loss: 3.892720\n",
            "Train - Epoch 8, Batch: 21000, Loss: 3.932377\n",
            "Train - Epoch 8, Batch: 22000, Loss: 3.789016\n",
            "Train - Epoch 8, Batch: 23000, Loss: 3.907512\n",
            "Train - Epoch 8, Batch: 24000, Loss: 3.864359\n",
            "Train - Epoch 8, Batch: 25000, Loss: 3.752431\n",
            "Train - Epoch 8, Batch: 26000, Loss: 3.522240\n",
            "Train - Epoch 8, Batch: 27000, Loss: 3.238021\n",
            "Train - Epoch 8, Batch: 28000, Loss: 2.946825\n",
            "Train - Epoch 8, Batch: 29000, Loss: 3.464967\n",
            " Accuracy: 0.011983\n",
            "Train - Epoch 9, Batch: 0, Loss: 2.492438\n",
            "Train - Epoch 9, Batch: 1000, Loss: 3.595968\n",
            "Train - Epoch 9, Batch: 2000, Loss: 2.747010\n",
            "Train - Epoch 9, Batch: 3000, Loss: 3.945682\n",
            "Train - Epoch 9, Batch: 4000, Loss: 3.363876\n",
            "Train - Epoch 9, Batch: 5000, Loss: 4.290080\n",
            "Train - Epoch 9, Batch: 6000, Loss: 3.235719\n",
            "Train - Epoch 9, Batch: 7000, Loss: 3.585316\n",
            "Train - Epoch 9, Batch: 8000, Loss: 4.121007\n",
            "Train - Epoch 9, Batch: 9000, Loss: 3.696299\n",
            "Train - Epoch 9, Batch: 10000, Loss: 2.903969\n",
            "Train - Epoch 9, Batch: 11000, Loss: 3.665312\n",
            "Train - Epoch 9, Batch: 12000, Loss: 3.651481\n",
            "Train - Epoch 9, Batch: 13000, Loss: 3.486681\n",
            "Train - Epoch 9, Batch: 14000, Loss: 4.157730\n",
            "Train - Epoch 9, Batch: 15000, Loss: 3.249631\n",
            "Train - Epoch 9, Batch: 16000, Loss: 4.262634\n",
            "Train - Epoch 9, Batch: 17000, Loss: 3.619327\n",
            "Train - Epoch 9, Batch: 18000, Loss: 3.356017\n",
            "Train - Epoch 9, Batch: 19000, Loss: 3.838549\n",
            "Train - Epoch 9, Batch: 20000, Loss: 3.612462\n",
            "Train - Epoch 9, Batch: 21000, Loss: 3.647090\n",
            "Train - Epoch 9, Batch: 22000, Loss: 3.546867\n",
            "Train - Epoch 9, Batch: 23000, Loss: 3.659707\n",
            "Train - Epoch 9, Batch: 24000, Loss: 3.610811\n",
            "Train - Epoch 9, Batch: 25000, Loss: 3.511276\n",
            "Train - Epoch 9, Batch: 26000, Loss: 3.278857\n",
            "Train - Epoch 9, Batch: 27000, Loss: 3.020052\n",
            "Train - Epoch 9, Batch: 28000, Loss: 2.746255\n",
            "Train - Epoch 9, Batch: 29000, Loss: 3.219346\n",
            " Accuracy: 0.011950\n"
          ],
          "name": "stdout"
        }
      ]
    },
    {
      "cell_type": "code",
      "metadata": {
        "id": "wTrZpbxGkyJf",
        "colab_type": "code",
        "colab": {
          "base_uri": "https://localhost:8080/",
          "height": 1000
        },
        "outputId": "fc85cb72-36b9-47e7-c36a-3cd83ce8beed"
      },
      "source": [
        "for i in range(10):\n",
        "    img, target = ds[i]\n",
        "    plt.imshow(img[0])\n",
        "    plt.show()\n",
        "    x = img.view(1,-1).numpy()\n",
        "    res = mm(x)[0]\n",
        "    pred = np.argmax(res)\n",
        "    print(f'target: {target} predicted: {pred}' )"
      ],
      "execution_count": 69,
      "outputs": [
        {
          "output_type": "display_data",
          "data": {
            "image/png": "[encoded data removed]",
            "text/plain": [
              "<Figure size 432x288 with 1 Axes>"
            ]
          },
          "metadata": {
            "tags": [],
            "needs_background": "light"
          }
        },
        {
          "output_type": "stream",
          "text": [
            "target: 5 predicted: 3\n"
          ],
          "name": "stdout"
        },
        {
          "output_type": "display_data",
          "data": {
            "image/png": "[encoded data removed]",
            "text/plain": [
              "<Figure size 432x288 with 1 Axes>"
            ]
          },
          "metadata": {
            "tags": [],
            "needs_background": "light"
          }
        },
        {
          "output_type": "stream",
          "text": [
            "target: 0 predicted: 0\n"
          ],
          "name": "stdout"
        },
        {
          "output_type": "display_data",
          "data": {
            "image/png": "[encoded data removed]",
            "text/plain": [
              "<Figure size 432x288 with 1 Axes>"
            ]
          },
          "metadata": {
            "tags": [],
            "needs_background": "light"
          }
        },
        {
          "output_type": "stream",
          "text": [
            "target: 4 predicted: 5\n"
          ],
          "name": "stdout"
        },
        {
          "output_type": "display_data",
          "data": {
            "image/png": "[encoded data removed]",
            "text/plain": [
              "<Figure size 432x288 with 1 Axes>"
            ]
          },
          "metadata": {
            "tags": [],
            "needs_background": "light"
          }
        },
        {
          "output_type": "stream",
          "text": [
            "target: 1 predicted: 1\n"
          ],
          "name": "stdout"
        },
        {
          "output_type": "display_data",
          "data": {
            "image/png": "[encoded data removed]",
            "text/plain": [
              "<Figure size 432x288 with 1 Axes>"
            ]
          },
          "metadata": {
            "tags": [],
            "needs_background": "light"
          }
        },
        {
          "output_type": "stream",
          "text": [
            "target: 9 predicted: 9\n"
          ],
          "name": "stdout"
        },
        {
          "output_type": "display_data",
          "data": {
            "image/png": "[encoded data removed]",
            "text/plain": [
              "<Figure size 432x288 with 1 Axes>"
            ]
          },
          "metadata": {
            "tags": [],
            "needs_background": "light"
          }
        },
        {
          "output_type": "stream",
          "text": [
            "target: 2 predicted: 2\n"
          ],
          "name": "stdout"
        },
        {
          "output_type": "display_data",
          "data": {
            "image/png": "[encoded data removed]",
            "text/plain": [
              "<Figure size 432x288 with 1 Axes>"
            ]
          },
          "metadata": {
            "tags": [],
            "needs_background": "light"
          }
        },
        {
          "output_type": "stream",
          "text": [
            "target: 1 predicted: 1\n"
          ],
          "name": "stdout"
        },
        {
          "output_type": "display_data",
          "data": {
            "image/png": "[encoded data removed]",
            "text/plain": [
              "<Figure size 432x288 with 1 Axes>"
            ]
          },
          "metadata": {
            "tags": [],
            "needs_background": "light"
          }
        },
        {
          "output_type": "stream",
          "text": [
            "target: 3 predicted: 3\n"
          ],
          "name": "stdout"
        },
        {
          "output_type": "display_data",
          "data": {
            "image/png": "[encoded data removed]",
            "text/plain": [
              "<Figure size 432x288 with 1 Axes>"
            ]
          },
          "metadata": {
            "tags": [],
            "needs_background": "light"
          }
        },
        {
          "output_type": "stream",
          "text": [
            "target: 1 predicted: 1\n"
          ],
          "name": "stdout"
        },
        {
          "output_type": "display_data",
          "data": {
            "image/png": "[encoded data removed]",
            "text/plain": [
              "<Figure size 432x288 with 1 Axes>"
            ]
          },
          "metadata": {
            "tags": [],
            "needs_background": "light"
          }
        },
        {
          "output_type": "stream",
          "text": [
            "target: 4 predicted: 4\n"
          ],
          "name": "stdout"
        }
      ]
    }
  ]
}
